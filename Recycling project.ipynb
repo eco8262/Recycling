{
 "cells": [
  {
   "cell_type": "code",
   "execution_count": 1,
   "id": "b68a36af",
   "metadata": {},
   "outputs": [],
   "source": [
    "import numpy as np, pandas as pd, os"
   ]
  },
  {
   "cell_type": "code",
   "execution_count": 3,
   "id": "5870631a",
   "metadata": {},
   "outputs": [],
   "source": [
    "d0 = 'D:project6 - raw data/'"
   ]
  },
  {
   "cell_type": "code",
   "execution_count": 6,
   "id": "57250620",
   "metadata": {},
   "outputs": [
    {
     "data": {
      "text/plain": [
       "['Alberni-Clayoquot.csv',\n",
       " 'Bulkley-Nechako.csv',\n",
       " 'Capital.csv',\n",
       " 'Cariboo.csv',\n",
       " 'Central Coast.csv']"
      ]
     },
     "execution_count": 6,
     "metadata": {},
     "output_type": "execute_result"
    }
   ],
   "source": [
    "list_region = os.listdir(d0)\n",
    "os.listdir(d0)[:5]"
   ]
  },
  {
   "cell_type": "code",
   "execution_count": 8,
   "id": "ef9985b9",
   "metadata": {},
   "outputs": [
    {
     "data": {
      "text/plain": [
       "'D:project6 - raw data/Cariboo.csv'"
      ]
     },
     "execution_count": 8,
     "metadata": {},
     "output_type": "execute_result"
    }
   ],
   "source": [
    "os.path.join(d0,list_region[3])"
   ]
  },
  {
   "cell_type": "code",
   "execution_count": 44,
   "id": "fa8c0451",
   "metadata": {
    "scrolled": false
   },
   "outputs": [
    {
     "data": {
      "text/html": [
       "<div>\n",
       "<style scoped>\n",
       "    .dataframe tbody tr th:only-of-type {\n",
       "        vertical-align: middle;\n",
       "    }\n",
       "\n",
       "    .dataframe tbody tr th {\n",
       "        vertical-align: top;\n",
       "    }\n",
       "\n",
       "    .dataframe thead th {\n",
       "        text-align: right;\n",
       "    }\n",
       "</style>\n",
       "<table border=\"1\" class=\"dataframe\">\n",
       "  <thead>\n",
       "    <tr style=\"text-align: right;\">\n",
       "      <th></th>\n",
       "      <th>year</th>\n",
       "      <th>Units Collected</th>\n",
       "      <th>Weight Collected (Tonnes)</th>\n",
       "    </tr>\n",
       "  </thead>\n",
       "  <tbody>\n",
       "    <tr>\n",
       "      <th>0</th>\n",
       "      <td>2007</td>\n",
       "      <td>32136000</td>\n",
       "      <td>2441.2</td>\n",
       "    </tr>\n",
       "    <tr>\n",
       "      <th>1</th>\n",
       "      <td>2008</td>\n",
       "      <td>34274000</td>\n",
       "      <td>2823.4</td>\n",
       "    </tr>\n",
       "    <tr>\n",
       "      <th>2</th>\n",
       "      <td>2009</td>\n",
       "      <td>35586000</td>\n",
       "      <td>3309.8</td>\n",
       "    </tr>\n",
       "    <tr>\n",
       "      <th>3</th>\n",
       "      <td>2010</td>\n",
       "      <td>34453000</td>\n",
       "      <td>3574.2</td>\n",
       "    </tr>\n",
       "    <tr>\n",
       "      <th>4</th>\n",
       "      <td>2011</td>\n",
       "      <td>33365000</td>\n",
       "      <td>3319.5</td>\n",
       "    </tr>\n",
       "  </tbody>\n",
       "</table>\n",
       "</div>"
      ],
      "text/plain": [
       "   year  Units Collected  Weight Collected (Tonnes)\n",
       "0  2007         32136000                     2441.2\n",
       "1  2008         34274000                     2823.4\n",
       "2  2009         35586000                     3309.8\n",
       "3  2010         34453000                     3574.2\n",
       "4  2011         33365000                     3319.5"
      ]
     },
     "execution_count": 44,
     "metadata": {},
     "output_type": "execute_result"
    }
   ],
   "source": [
    "non = pd.read_csv(os.path.join(d0,list_region[18]))\n",
    "non.head()"
   ]
  },
  {
   "cell_type": "code",
   "execution_count": 10,
   "id": "c044b00e",
   "metadata": {},
   "outputs": [
    {
     "data": {
      "text/html": [
       "<div>\n",
       "<style scoped>\n",
       "    .dataframe tbody tr th:only-of-type {\n",
       "        vertical-align: middle;\n",
       "    }\n",
       "\n",
       "    .dataframe tbody tr th {\n",
       "        vertical-align: top;\n",
       "    }\n",
       "\n",
       "    .dataframe thead th {\n",
       "        text-align: right;\n",
       "    }\n",
       "</style>\n",
       "<table border=\"1\" class=\"dataframe\">\n",
       "  <thead>\n",
       "    <tr style=\"text-align: right;\">\n",
       "      <th></th>\n",
       "      <th>regional_district</th>\n",
       "      <th>year</th>\n",
       "      <th>population</th>\n",
       "    </tr>\n",
       "  </thead>\n",
       "  <tbody>\n",
       "    <tr>\n",
       "      <th>0</th>\n",
       "      <td>British Columbia</td>\n",
       "      <td>1986</td>\n",
       "      <td>3003621</td>\n",
       "    </tr>\n",
       "    <tr>\n",
       "      <th>1</th>\n",
       "      <td>British Columbia</td>\n",
       "      <td>1987</td>\n",
       "      <td>3048651</td>\n",
       "    </tr>\n",
       "    <tr>\n",
       "      <th>2</th>\n",
       "      <td>British Columbia</td>\n",
       "      <td>1988</td>\n",
       "      <td>3114761</td>\n",
       "    </tr>\n",
       "    <tr>\n",
       "      <th>3</th>\n",
       "      <td>British Columbia</td>\n",
       "      <td>1989</td>\n",
       "      <td>3196725</td>\n",
       "    </tr>\n",
       "    <tr>\n",
       "      <th>4</th>\n",
       "      <td>British Columbia</td>\n",
       "      <td>1990</td>\n",
       "      <td>3292111</td>\n",
       "    </tr>\n",
       "  </tbody>\n",
       "</table>\n",
       "</div>"
      ],
      "text/plain": [
       "  regional_district  year  population\n",
       "0  British Columbia  1986     3003621\n",
       "1  British Columbia  1987     3048651\n",
       "2  British Columbia  1988     3114761\n",
       "3  British Columbia  1989     3196725\n",
       "4  British Columbia  1990     3292111"
      ]
     },
     "execution_count": 10,
     "metadata": {},
     "output_type": "execute_result"
    }
   ],
   "source": [
    "pop = pd.read_csv('D:project6 - raw data/total/population_estimates.csv')\n",
    "pop.head()"
   ]
  },
  {
   "cell_type": "code",
   "execution_count": 16,
   "id": "926dec80",
   "metadata": {},
   "outputs": [
    {
     "name": "stdout",
     "output_type": "stream",
     "text": [
      "<class 'pandas.core.frame.DataFrame'>\n",
      "RangeIndex: 22 entries, 0 to 21\n",
      "Data columns (total 3 columns):\n",
      " #   Column   Non-Null Count  Dtype  \n",
      "---  ------   --------------  -----  \n",
      " 0   measure  22 non-null     object \n",
      " 1   year     22 non-null     int64  \n",
      " 2   value    22 non-null     float64\n",
      "dtypes: float64(1), int64(1), object(1)\n",
      "memory usage: 656.0+ bytes\n"
     ]
    }
   ],
   "source": [
    "non.info()"
   ]
  },
  {
   "cell_type": "code",
   "execution_count": 17,
   "id": "42b62972",
   "metadata": {
    "scrolled": true
   },
   "outputs": [
    {
     "name": "stdout",
     "output_type": "stream",
     "text": [
      "<class 'pandas.core.frame.DataFrame'>\n",
      "RangeIndex: 990 entries, 0 to 989\n",
      "Data columns (total 3 columns):\n",
      " #   Column             Non-Null Count  Dtype \n",
      "---  ------             --------------  ----- \n",
      " 0   regional_district  990 non-null    object\n",
      " 1   year               990 non-null    int64 \n",
      " 2   population         990 non-null    int64 \n",
      "dtypes: int64(2), object(1)\n",
      "memory usage: 23.3+ KB\n"
     ]
    }
   ],
   "source": [
    "pop.info()"
   ]
  },
  {
   "cell_type": "code",
   "execution_count": 21,
   "id": "7454c841",
   "metadata": {
    "scrolled": true
   },
   "outputs": [
    {
     "data": {
      "text/plain": [
       "Northern Rockies     33\n",
       "Squamish-Lillooet    33\n",
       "Kootenay-Boundary    33\n",
       "Central Kootenay     33\n",
       "Name: regional_district, dtype: int64"
      ]
     },
     "execution_count": 21,
     "metadata": {},
     "output_type": "execute_result"
    }
   ],
   "source": [
    "pop['regional_district'].value_counts()[:4]"
   ]
  },
  {
   "cell_type": "code",
   "execution_count": 24,
   "id": "6f258090",
   "metadata": {},
   "outputs": [
    {
     "data": {
      "text/plain": [
       "Index(['Northern Rockies', 'Squamish-Lillooet', 'Kootenay-Boundary',\n",
       "       'Central Kootenay', 'Mount Waddington', 'Sunshine Coast',\n",
       "       'Fraser Valley', 'North Coast', 'Central Coast', 'Kitimat-Stikine',\n",
       "       'Metro Vancouver', 'Alberni-Clayoquot', 'Stikine', 'Nanaimo',\n",
       "       'Cowichan Valley', 'Columbia-Shuswap', 'Capital', 'Fraser-Fort George',\n",
       "       'Okanagan-Similkameen', 'Powell River', 'East Kootenay',\n",
       "       'British Columbia', 'Peace River', 'Comox Valley', 'North Okanagan',\n",
       "       'Thompson-Nicola', 'Central Okanagan', 'Cariboo', 'Bulkley-Nechako',\n",
       "       'Strathcona'],\n",
       "      dtype='object')"
      ]
     },
     "execution_count": 24,
     "metadata": {},
     "output_type": "execute_result"
    }
   ],
   "source": [
    "pop['regional_district'].value_counts().index"
   ]
  },
  {
   "cell_type": "code",
   "execution_count": 34,
   "id": "467a5a5c",
   "metadata": {},
   "outputs": [
    {
     "data": {
      "text/plain": [
       "['Alberni-Clayoquot', 'Bulkley-Nechako', 'Capital', 'Cariboo']"
      ]
     },
     "execution_count": 34,
     "metadata": {},
     "output_type": "execute_result"
    }
   ],
   "source": [
    "list_region2 = [i.split('.')[0] for i in list_region]\n",
    "list_region2[:4]"
   ]
  },
  {
   "cell_type": "code",
   "execution_count": 32,
   "id": "633a4275",
   "metadata": {},
   "outputs": [
    {
     "data": {
      "text/plain": [
       "26"
      ]
     },
     "execution_count": 32,
     "metadata": {},
     "output_type": "execute_result"
    }
   ],
   "source": [
    "sum([1 for i in list_region2 if i in pop['regional_district'].value_counts().index])"
   ]
  },
  {
   "cell_type": "code",
   "execution_count": 33,
   "id": "8b710d08",
   "metadata": {},
   "outputs": [
    {
     "data": {
      "text/plain": [
       "30"
      ]
     },
     "execution_count": 33,
     "metadata": {},
     "output_type": "execute_result"
    }
   ],
   "source": [
    "len(list_region)"
   ]
  },
  {
   "cell_type": "code",
   "execution_count": 35,
   "id": "832839ea",
   "metadata": {},
   "outputs": [
    {
     "data": {
      "text/plain": [
       "['Comox-Strathcona', 'Comox', 'Skeena-Queen Charlotte', 'total']"
      ]
     },
     "execution_count": 35,
     "metadata": {},
     "output_type": "execute_result"
    }
   ],
   "source": [
    "[i for i in list_region2 if i not in pop['regional_district'].value_counts().index]"
   ]
  },
  {
   "cell_type": "code",
   "execution_count": 38,
   "id": "c93f2db4",
   "metadata": {
    "scrolled": false
   },
   "outputs": [
    {
     "data": {
      "text/plain": [
       "['Alberni-Clayoquot',\n",
       " 'British Columbia',\n",
       " 'Bulkley-Nechako',\n",
       " 'Capital',\n",
       " 'Cariboo',\n",
       " 'Central Coast',\n",
       " 'Central Kootenay',\n",
       " 'Central Okanagan',\n",
       " 'Columbia-Shuswap',\n",
       " 'Comox Valley',\n",
       " 'Cowichan Valley',\n",
       " 'East Kootenay',\n",
       " 'Fraser Valley',\n",
       " 'Fraser-Fort George',\n",
       " 'Kitimat-Stikine',\n",
       " 'Kootenay-Boundary',\n",
       " 'Metro Vancouver',\n",
       " 'Mount Waddington',\n",
       " 'Nanaimo',\n",
       " 'North Coast',\n",
       " 'North Okanagan',\n",
       " 'Northern Rockies',\n",
       " 'Okanagan-Similkameen',\n",
       " 'Peace River',\n",
       " 'Powell River',\n",
       " 'Squamish-Lillooet',\n",
       " 'Stikine',\n",
       " 'Strathcona',\n",
       " 'Sunshine Coast',\n",
       " 'Thompson-Nicola']"
      ]
     },
     "execution_count": 38,
     "metadata": {},
     "output_type": "execute_result"
    }
   ],
   "source": [
    "sorted(pop['regional_district'].unique())"
   ]
  },
  {
   "cell_type": "code",
   "execution_count": 39,
   "id": "b8050810",
   "metadata": {},
   "outputs": [],
   "source": [
    "list_region_name = [i for i in list_region2 if i in pop['regional_district'].value_counts().index]"
   ]
  },
  {
   "cell_type": "code",
   "execution_count": 41,
   "id": "cdce93bc",
   "metadata": {
    "scrolled": false
   },
   "outputs": [
    {
     "data": {
      "text/plain": [
       "['Alberni-Clayoquot', 'Bulkley-Nechako', 'Capital', 'Cariboo']"
      ]
     },
     "execution_count": 41,
     "metadata": {},
     "output_type": "execute_result"
    }
   ],
   "source": [
    "list_region_name[:4]"
   ]
  },
  {
   "cell_type": "code",
   "execution_count": 43,
   "id": "bb0e9080",
   "metadata": {},
   "outputs": [
    {
     "data": {
      "text/plain": [
       "['Alberni-Clayoquot.csv', 'Bulkley-Nechako.csv', 'Capital.csv', 'Cariboo.csv']"
      ]
     },
     "execution_count": 43,
     "metadata": {},
     "output_type": "execute_result"
    }
   ],
   "source": [
    "list_region_csv = [i+'.csv' for i in list_region_name]\n",
    "list_region_csv[:4]"
   ]
  },
  {
   "cell_type": "markdown",
   "id": "f7086c76",
   "metadata": {},
   "source": [
    "### merging pop data with Nanaimo data"
   ]
  },
  {
   "cell_type": "code",
   "execution_count": 49,
   "id": "2e93862f",
   "metadata": {},
   "outputs": [],
   "source": [
    "# list of all year availabe in cities files"
   ]
  },
  {
   "cell_type": "code",
   "execution_count": 51,
   "id": "4b7a6d4b",
   "metadata": {},
   "outputs": [],
   "source": [
    "non_year = pd.read_csv(os.path.join(d0+list_region_csv[16]))['year'].unique()"
   ]
  },
  {
   "cell_type": "code",
   "execution_count": 54,
   "id": "8e499b7a",
   "metadata": {},
   "outputs": [
    {
     "data": {
      "text/html": [
       "<div>\n",
       "<style scoped>\n",
       "    .dataframe tbody tr th:only-of-type {\n",
       "        vertical-align: middle;\n",
       "    }\n",
       "\n",
       "    .dataframe tbody tr th {\n",
       "        vertical-align: top;\n",
       "    }\n",
       "\n",
       "    .dataframe thead th {\n",
       "        text-align: right;\n",
       "    }\n",
       "</style>\n",
       "<table border=\"1\" class=\"dataframe\">\n",
       "  <thead>\n",
       "    <tr style=\"text-align: right;\">\n",
       "      <th></th>\n",
       "      <th>regional_district</th>\n",
       "      <th>year</th>\n",
       "      <th>population</th>\n",
       "    </tr>\n",
       "  </thead>\n",
       "  <tbody>\n",
       "    <tr>\n",
       "      <th>21</th>\n",
       "      <td>British Columbia</td>\n",
       "      <td>2007</td>\n",
       "      <td>4290984</td>\n",
       "    </tr>\n",
       "    <tr>\n",
       "      <th>22</th>\n",
       "      <td>British Columbia</td>\n",
       "      <td>2008</td>\n",
       "      <td>4349336</td>\n",
       "    </tr>\n",
       "    <tr>\n",
       "      <th>23</th>\n",
       "      <td>British Columbia</td>\n",
       "      <td>2009</td>\n",
       "      <td>4410506</td>\n",
       "    </tr>\n",
       "    <tr>\n",
       "      <th>24</th>\n",
       "      <td>British Columbia</td>\n",
       "      <td>2010</td>\n",
       "      <td>4465546</td>\n",
       "    </tr>\n",
       "    <tr>\n",
       "      <th>25</th>\n",
       "      <td>British Columbia</td>\n",
       "      <td>2011</td>\n",
       "      <td>4502104</td>\n",
       "    </tr>\n",
       "    <tr>\n",
       "      <th>26</th>\n",
       "      <td>British Columbia</td>\n",
       "      <td>2012</td>\n",
       "      <td>4566769</td>\n",
       "    </tr>\n",
       "  </tbody>\n",
       "</table>\n",
       "</div>"
      ],
      "text/plain": [
       "   regional_district  year  population\n",
       "21  British Columbia  2007     4290984\n",
       "22  British Columbia  2008     4349336\n",
       "23  British Columbia  2009     4410506\n",
       "24  British Columbia  2010     4465546\n",
       "25  British Columbia  2011     4502104\n",
       "26  British Columbia  2012     4566769"
      ]
     },
     "execution_count": 54,
     "metadata": {},
     "output_type": "execute_result"
    }
   ],
   "source": [
    "pop1 = pop[pop['year'].isin(non_year)]\n",
    "pop1.head(6)"
   ]
  },
  {
   "cell_type": "code",
   "execution_count": 46,
   "id": "e5156bd6",
   "metadata": {
    "scrolled": true
   },
   "outputs": [
    {
     "data": {
      "text/plain": [
       "16"
      ]
     },
     "execution_count": 46,
     "metadata": {},
     "output_type": "execute_result"
    }
   ],
   "source": [
    "list_region_name.index('Nanaimo')"
   ]
  },
  {
   "cell_type": "code",
   "execution_count": 56,
   "id": "c2a365f3",
   "metadata": {},
   "outputs": [
    {
     "data": {
      "text/html": [
       "<div>\n",
       "<style scoped>\n",
       "    .dataframe tbody tr th:only-of-type {\n",
       "        vertical-align: middle;\n",
       "    }\n",
       "\n",
       "    .dataframe tbody tr th {\n",
       "        vertical-align: top;\n",
       "    }\n",
       "\n",
       "    .dataframe thead th {\n",
       "        text-align: right;\n",
       "    }\n",
       "</style>\n",
       "<table border=\"1\" class=\"dataframe\">\n",
       "  <thead>\n",
       "    <tr style=\"text-align: right;\">\n",
       "      <th></th>\n",
       "      <th>regional_district</th>\n",
       "      <th>year</th>\n",
       "      <th>population</th>\n",
       "    </tr>\n",
       "  </thead>\n",
       "  <tbody>\n",
       "    <tr>\n",
       "      <th>318</th>\n",
       "      <td>Nanaimo</td>\n",
       "      <td>2007</td>\n",
       "      <td>142207</td>\n",
       "    </tr>\n",
       "    <tr>\n",
       "      <th>319</th>\n",
       "      <td>Nanaimo</td>\n",
       "      <td>2008</td>\n",
       "      <td>144547</td>\n",
       "    </tr>\n",
       "    <tr>\n",
       "      <th>320</th>\n",
       "      <td>Nanaimo</td>\n",
       "      <td>2009</td>\n",
       "      <td>146271</td>\n",
       "    </tr>\n",
       "    <tr>\n",
       "      <th>321</th>\n",
       "      <td>Nanaimo</td>\n",
       "      <td>2010</td>\n",
       "      <td>147464</td>\n",
       "    </tr>\n",
       "    <tr>\n",
       "      <th>322</th>\n",
       "      <td>Nanaimo</td>\n",
       "      <td>2011</td>\n",
       "      <td>148877</td>\n",
       "    </tr>\n",
       "  </tbody>\n",
       "</table>\n",
       "</div>"
      ],
      "text/plain": [
       "    regional_district  year  population\n",
       "318           Nanaimo  2007      142207\n",
       "319           Nanaimo  2008      144547\n",
       "320           Nanaimo  2009      146271\n",
       "321           Nanaimo  2010      147464\n",
       "322           Nanaimo  2011      148877"
      ]
     },
     "execution_count": 56,
     "metadata": {},
     "output_type": "execute_result"
    }
   ],
   "source": [
    "pop_non = pop1[pop1['regional_district']==list_region_name[16]]\n",
    "pop_non.head()"
   ]
  },
  {
   "cell_type": "code",
   "execution_count": 57,
   "id": "14084af2",
   "metadata": {
    "scrolled": true
   },
   "outputs": [
    {
     "data": {
      "text/html": [
       "<div>\n",
       "<style scoped>\n",
       "    .dataframe tbody tr th:only-of-type {\n",
       "        vertical-align: middle;\n",
       "    }\n",
       "\n",
       "    .dataframe tbody tr th {\n",
       "        vertical-align: top;\n",
       "    }\n",
       "\n",
       "    .dataframe thead th {\n",
       "        text-align: right;\n",
       "    }\n",
       "</style>\n",
       "<table border=\"1\" class=\"dataframe\">\n",
       "  <thead>\n",
       "    <tr style=\"text-align: right;\">\n",
       "      <th></th>\n",
       "      <th>regional_district</th>\n",
       "      <th>year</th>\n",
       "      <th>population</th>\n",
       "      <th>Units Collected</th>\n",
       "      <th>Weight Collected (Tonnes)</th>\n",
       "    </tr>\n",
       "  </thead>\n",
       "  <tbody>\n",
       "    <tr>\n",
       "      <th>0</th>\n",
       "      <td>Nanaimo</td>\n",
       "      <td>2007</td>\n",
       "      <td>142207</td>\n",
       "      <td>32136000</td>\n",
       "      <td>2441.2</td>\n",
       "    </tr>\n",
       "    <tr>\n",
       "      <th>1</th>\n",
       "      <td>Nanaimo</td>\n",
       "      <td>2008</td>\n",
       "      <td>144547</td>\n",
       "      <td>34274000</td>\n",
       "      <td>2823.4</td>\n",
       "    </tr>\n",
       "    <tr>\n",
       "      <th>2</th>\n",
       "      <td>Nanaimo</td>\n",
       "      <td>2009</td>\n",
       "      <td>146271</td>\n",
       "      <td>35586000</td>\n",
       "      <td>3309.8</td>\n",
       "    </tr>\n",
       "    <tr>\n",
       "      <th>3</th>\n",
       "      <td>Nanaimo</td>\n",
       "      <td>2010</td>\n",
       "      <td>147464</td>\n",
       "      <td>34453000</td>\n",
       "      <td>3574.2</td>\n",
       "    </tr>\n",
       "    <tr>\n",
       "      <th>4</th>\n",
       "      <td>Nanaimo</td>\n",
       "      <td>2011</td>\n",
       "      <td>148877</td>\n",
       "      <td>33365000</td>\n",
       "      <td>3319.5</td>\n",
       "    </tr>\n",
       "    <tr>\n",
       "      <th>5</th>\n",
       "      <td>Nanaimo</td>\n",
       "      <td>2012</td>\n",
       "      <td>150017</td>\n",
       "      <td>32918000</td>\n",
       "      <td>3287.6</td>\n",
       "    </tr>\n",
       "    <tr>\n",
       "      <th>6</th>\n",
       "      <td>Nanaimo</td>\n",
       "      <td>2013</td>\n",
       "      <td>152158</td>\n",
       "      <td>33033000</td>\n",
       "      <td>3315.6</td>\n",
       "    </tr>\n",
       "    <tr>\n",
       "      <th>7</th>\n",
       "      <td>Nanaimo</td>\n",
       "      <td>2014</td>\n",
       "      <td>155118</td>\n",
       "      <td>33487000</td>\n",
       "      <td>-99999.0</td>\n",
       "    </tr>\n",
       "    <tr>\n",
       "      <th>8</th>\n",
       "      <td>Nanaimo</td>\n",
       "      <td>2015</td>\n",
       "      <td>158143</td>\n",
       "      <td>35765000</td>\n",
       "      <td>3508.7</td>\n",
       "    </tr>\n",
       "    <tr>\n",
       "      <th>9</th>\n",
       "      <td>Nanaimo</td>\n",
       "      <td>2016</td>\n",
       "      <td>162617</td>\n",
       "      <td>35632000</td>\n",
       "      <td>3505.0</td>\n",
       "    </tr>\n",
       "    <tr>\n",
       "      <th>10</th>\n",
       "      <td>Nanaimo</td>\n",
       "      <td>2017</td>\n",
       "      <td>164700</td>\n",
       "      <td>36866000</td>\n",
       "      <td>3595.8</td>\n",
       "    </tr>\n",
       "  </tbody>\n",
       "</table>\n",
       "</div>"
      ],
      "text/plain": [
       "   regional_district  year  population  Units Collected  \\\n",
       "0            Nanaimo  2007      142207         32136000   \n",
       "1            Nanaimo  2008      144547         34274000   \n",
       "2            Nanaimo  2009      146271         35586000   \n",
       "3            Nanaimo  2010      147464         34453000   \n",
       "4            Nanaimo  2011      148877         33365000   \n",
       "5            Nanaimo  2012      150017         32918000   \n",
       "6            Nanaimo  2013      152158         33033000   \n",
       "7            Nanaimo  2014      155118         33487000   \n",
       "8            Nanaimo  2015      158143         35765000   \n",
       "9            Nanaimo  2016      162617         35632000   \n",
       "10           Nanaimo  2017      164700         36866000   \n",
       "\n",
       "    Weight Collected (Tonnes)  \n",
       "0                      2441.2  \n",
       "1                      2823.4  \n",
       "2                      3309.8  \n",
       "3                      3574.2  \n",
       "4                      3319.5  \n",
       "5                      3287.6  \n",
       "6                      3315.6  \n",
       "7                    -99999.0  \n",
       "8                      3508.7  \n",
       "9                      3505.0  \n",
       "10                     3595.8  "
      ]
     },
     "execution_count": 57,
     "metadata": {},
     "output_type": "execute_result"
    }
   ],
   "source": [
    "pd.merge(pop_non,pd.read_csv(os.path.join(d0+list_region_csv[16])),on='year' , how='inner')"
   ]
  }
 ],
 "metadata": {
  "hide_input": false,
  "kernelspec": {
   "display_name": "Python 3",
   "language": "python",
   "name": "python3"
  },
  "language_info": {
   "codemirror_mode": {
    "name": "ipython",
    "version": 3
   },
   "file_extension": ".py",
   "mimetype": "text/x-python",
   "name": "python",
   "nbconvert_exporter": "python",
   "pygments_lexer": "ipython3",
   "version": "3.8.3"
  },
  "varInspector": {
   "cols": {
    "lenName": 16,
    "lenType": 16,
    "lenVar": 40
   },
   "kernels_config": {
    "python": {
     "delete_cmd_postfix": "",
     "delete_cmd_prefix": "del ",
     "library": "var_list.py",
     "varRefreshCmd": "print(var_dic_list())"
    },
    "r": {
     "delete_cmd_postfix": ") ",
     "delete_cmd_prefix": "rm(",
     "library": "var_list.r",
     "varRefreshCmd": "cat(var_dic_list()) "
    }
   },
   "types_to_exclude": [
    "module",
    "function",
    "builtin_function_or_method",
    "instance",
    "_Feature"
   ],
   "window_display": false
  }
 },
 "nbformat": 4,
 "nbformat_minor": 5
}
