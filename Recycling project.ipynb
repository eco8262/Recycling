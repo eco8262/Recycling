{
 "cells": [
  {
   "cell_type": "code",
   "execution_count": 1,
   "id": "7a70789f",
   "metadata": {},
   "outputs": [],
   "source": [
    "import numpy as np, pandas as pd, os"
   ]
  },
  {
   "cell_type": "code",
   "execution_count": 2,
   "id": "6d472414",
   "metadata": {},
   "outputs": [],
   "source": [
    "d0 = 'D:project6 - raw data/'"
   ]
  },
  {
   "cell_type": "code",
   "execution_count": 3,
   "id": "d6d63ac1",
   "metadata": {
    "scrolled": true
   },
   "outputs": [
    {
     "data": {
      "text/plain": [
       "['Alberni-Clayoquot.csv',\n",
       " 'Bulkley-Nechako.csv',\n",
       " 'Capital.csv',\n",
       " 'Cariboo.csv',\n",
       " 'Central Coast.csv']"
      ]
     },
     "execution_count": 3,
     "metadata": {},
     "output_type": "execute_result"
    }
   ],
   "source": [
    "list_region = os.listdir(d0)\n",
    "os.listdir(d0)[:5]"
   ]
  },
  {
   "cell_type": "code",
   "execution_count": 4,
   "id": "05892152",
   "metadata": {},
   "outputs": [
    {
     "data": {
      "text/plain": [
       "18"
      ]
     },
     "execution_count": 4,
     "metadata": {},
     "output_type": "execute_result"
    }
   ],
   "source": [
    "list_region.index('Nanaimo.csv')"
   ]
  },
  {
   "cell_type": "code",
   "execution_count": 5,
   "id": "e03464b2",
   "metadata": {},
   "outputs": [
    {
     "data": {
      "text/plain": [
       "'D:project6 - raw data/Cariboo.csv'"
      ]
     },
     "execution_count": 5,
     "metadata": {},
     "output_type": "execute_result"
    }
   ],
   "source": [
    "os.path.join(d0,list_region[3])"
   ]
  },
  {
   "cell_type": "code",
   "execution_count": 6,
   "id": "9269e37d",
   "metadata": {
    "scrolled": false
   },
   "outputs": [
    {
     "data": {
      "text/html": [
       "<div>\n",
       "<style scoped>\n",
       "    .dataframe tbody tr th:only-of-type {\n",
       "        vertical-align: middle;\n",
       "    }\n",
       "\n",
       "    .dataframe tbody tr th {\n",
       "        vertical-align: top;\n",
       "    }\n",
       "\n",
       "    .dataframe thead th {\n",
       "        text-align: right;\n",
       "    }\n",
       "</style>\n",
       "<table border=\"1\" class=\"dataframe\">\n",
       "  <thead>\n",
       "    <tr style=\"text-align: right;\">\n",
       "      <th></th>\n",
       "      <th>year</th>\n",
       "      <th>Units Collected</th>\n",
       "      <th>Weight Collected (Tonnes)</th>\n",
       "    </tr>\n",
       "  </thead>\n",
       "  <tbody>\n",
       "    <tr>\n",
       "      <th>0</th>\n",
       "      <td>2007</td>\n",
       "      <td>32136000</td>\n",
       "      <td>2441.2</td>\n",
       "    </tr>\n",
       "    <tr>\n",
       "      <th>1</th>\n",
       "      <td>2008</td>\n",
       "      <td>34274000</td>\n",
       "      <td>2823.4</td>\n",
       "    </tr>\n",
       "    <tr>\n",
       "      <th>2</th>\n",
       "      <td>2009</td>\n",
       "      <td>35586000</td>\n",
       "      <td>3309.8</td>\n",
       "    </tr>\n",
       "    <tr>\n",
       "      <th>3</th>\n",
       "      <td>2010</td>\n",
       "      <td>34453000</td>\n",
       "      <td>3574.2</td>\n",
       "    </tr>\n",
       "    <tr>\n",
       "      <th>4</th>\n",
       "      <td>2011</td>\n",
       "      <td>33365000</td>\n",
       "      <td>3319.5</td>\n",
       "    </tr>\n",
       "  </tbody>\n",
       "</table>\n",
       "</div>"
      ],
      "text/plain": [
       "   year  Units Collected  Weight Collected (Tonnes)\n",
       "0  2007         32136000                     2441.2\n",
       "1  2008         34274000                     2823.4\n",
       "2  2009         35586000                     3309.8\n",
       "3  2010         34453000                     3574.2\n",
       "4  2011         33365000                     3319.5"
      ]
     },
     "execution_count": 6,
     "metadata": {},
     "output_type": "execute_result"
    }
   ],
   "source": [
    "non = pd.read_csv(os.path.join(d0,list_region[18]))\n",
    "non.head()"
   ]
  },
  {
   "cell_type": "code",
   "execution_count": 7,
   "id": "606fdabd",
   "metadata": {},
   "outputs": [
    {
     "data": {
      "text/html": [
       "<div>\n",
       "<style scoped>\n",
       "    .dataframe tbody tr th:only-of-type {\n",
       "        vertical-align: middle;\n",
       "    }\n",
       "\n",
       "    .dataframe tbody tr th {\n",
       "        vertical-align: top;\n",
       "    }\n",
       "\n",
       "    .dataframe thead th {\n",
       "        text-align: right;\n",
       "    }\n",
       "</style>\n",
       "<table border=\"1\" class=\"dataframe\">\n",
       "  <thead>\n",
       "    <tr style=\"text-align: right;\">\n",
       "      <th></th>\n",
       "      <th>regional_district</th>\n",
       "      <th>year</th>\n",
       "      <th>population</th>\n",
       "    </tr>\n",
       "  </thead>\n",
       "  <tbody>\n",
       "    <tr>\n",
       "      <th>0</th>\n",
       "      <td>British Columbia</td>\n",
       "      <td>1986</td>\n",
       "      <td>3003621</td>\n",
       "    </tr>\n",
       "    <tr>\n",
       "      <th>1</th>\n",
       "      <td>British Columbia</td>\n",
       "      <td>1987</td>\n",
       "      <td>3048651</td>\n",
       "    </tr>\n",
       "    <tr>\n",
       "      <th>2</th>\n",
       "      <td>British Columbia</td>\n",
       "      <td>1988</td>\n",
       "      <td>3114761</td>\n",
       "    </tr>\n",
       "    <tr>\n",
       "      <th>3</th>\n",
       "      <td>British Columbia</td>\n",
       "      <td>1989</td>\n",
       "      <td>3196725</td>\n",
       "    </tr>\n",
       "    <tr>\n",
       "      <th>4</th>\n",
       "      <td>British Columbia</td>\n",
       "      <td>1990</td>\n",
       "      <td>3292111</td>\n",
       "    </tr>\n",
       "  </tbody>\n",
       "</table>\n",
       "</div>"
      ],
      "text/plain": [
       "  regional_district  year  population\n",
       "0  British Columbia  1986     3003621\n",
       "1  British Columbia  1987     3048651\n",
       "2  British Columbia  1988     3114761\n",
       "3  British Columbia  1989     3196725\n",
       "4  British Columbia  1990     3292111"
      ]
     },
     "execution_count": 7,
     "metadata": {},
     "output_type": "execute_result"
    }
   ],
   "source": [
    "pop = pd.read_csv('D:project6 - raw data/total/population_estimates.csv')\n",
    "pop.head()"
   ]
  },
  {
   "cell_type": "code",
   "execution_count": 8,
   "id": "8d64bc9f",
   "metadata": {},
   "outputs": [
    {
     "name": "stdout",
     "output_type": "stream",
     "text": [
      "<class 'pandas.core.frame.DataFrame'>\n",
      "RangeIndex: 11 entries, 0 to 10\n",
      "Data columns (total 3 columns):\n",
      " #   Column                     Non-Null Count  Dtype  \n",
      "---  ------                     --------------  -----  \n",
      " 0   year                       11 non-null     int64  \n",
      " 1   Units Collected            11 non-null     int64  \n",
      " 2   Weight Collected (Tonnes)  11 non-null     float64\n",
      "dtypes: float64(1), int64(2)\n",
      "memory usage: 392.0 bytes\n"
     ]
    }
   ],
   "source": [
    "non.info()"
   ]
  },
  {
   "cell_type": "code",
   "execution_count": 9,
   "id": "8efa9489",
   "metadata": {
    "scrolled": false
   },
   "outputs": [
    {
     "name": "stdout",
     "output_type": "stream",
     "text": [
      "<class 'pandas.core.frame.DataFrame'>\n",
      "RangeIndex: 990 entries, 0 to 989\n",
      "Data columns (total 3 columns):\n",
      " #   Column             Non-Null Count  Dtype \n",
      "---  ------             --------------  ----- \n",
      " 0   regional_district  990 non-null    object\n",
      " 1   year               990 non-null    int64 \n",
      " 2   population         990 non-null    int64 \n",
      "dtypes: int64(2), object(1)\n",
      "memory usage: 23.3+ KB\n"
     ]
    }
   ],
   "source": [
    "pop.info()"
   ]
  },
  {
   "cell_type": "code",
   "execution_count": 10,
   "id": "f9b777ac",
   "metadata": {
    "scrolled": false
   },
   "outputs": [
    {
     "data": {
      "text/plain": [
       "Nanaimo              33\n",
       "Squamish-Lillooet    33\n",
       "Stikine              33\n",
       "Central Okanagan     33\n",
       "Name: regional_district, dtype: int64"
      ]
     },
     "execution_count": 10,
     "metadata": {},
     "output_type": "execute_result"
    }
   ],
   "source": [
    "pop['regional_district'].value_counts()[:4]"
   ]
  },
  {
   "cell_type": "code",
   "execution_count": 11,
   "id": "c1da5dda",
   "metadata": {},
   "outputs": [
    {
     "data": {
      "text/plain": [
       "Index(['Nanaimo', 'Squamish-Lillooet', 'Stikine', 'Central Okanagan',\n",
       "       'Sunshine Coast', 'Central Kootenay', 'Fraser-Fort George',\n",
       "       'Powell River', 'Cowichan Valley', 'Alberni-Clayoquot',\n",
       "       'Metro Vancouver', 'East Kootenay', 'Central Coast', 'Fraser Valley',\n",
       "       'North Okanagan', 'North Coast', 'Kitimat-Stikine', 'Capital',\n",
       "       'Okanagan-Similkameen', 'Bulkley-Nechako', 'Kootenay-Boundary',\n",
       "       'Comox Valley', 'Peace River', 'Columbia-Shuswap', 'Thompson-Nicola',\n",
       "       'Cariboo', 'Northern Rockies', 'Strathcona', 'Mount Waddington',\n",
       "       'British Columbia'],\n",
       "      dtype='object')"
      ]
     },
     "execution_count": 11,
     "metadata": {},
     "output_type": "execute_result"
    }
   ],
   "source": [
    "pop['regional_district'].value_counts().index"
   ]
  },
  {
   "cell_type": "code",
   "execution_count": 12,
   "id": "e6fff6cc",
   "metadata": {},
   "outputs": [
    {
     "data": {
      "text/plain": [
       "['Alberni-Clayoquot', 'Bulkley-Nechako', 'Capital', 'Cariboo']"
      ]
     },
     "execution_count": 12,
     "metadata": {},
     "output_type": "execute_result"
    }
   ],
   "source": [
    "list_region2 = [i.split('.')[0] for i in list_region]\n",
    "list_region2[:4]"
   ]
  },
  {
   "cell_type": "code",
   "execution_count": 13,
   "id": "b4d8a3d9",
   "metadata": {},
   "outputs": [
    {
     "data": {
      "text/plain": [
       "26"
      ]
     },
     "execution_count": 13,
     "metadata": {},
     "output_type": "execute_result"
    }
   ],
   "source": [
    "sum([1 for i in list_region2 if i in pop['regional_district'].value_counts().index])"
   ]
  },
  {
   "cell_type": "code",
   "execution_count": 14,
   "id": "8c4ed35b",
   "metadata": {},
   "outputs": [
    {
     "data": {
      "text/plain": [
       "30"
      ]
     },
     "execution_count": 14,
     "metadata": {},
     "output_type": "execute_result"
    }
   ],
   "source": [
    "len(list_region)"
   ]
  },
  {
   "cell_type": "code",
   "execution_count": 15,
   "id": "f8a7a760",
   "metadata": {},
   "outputs": [
    {
     "data": {
      "text/plain": [
       "['Comox-Strathcona', 'Comox', 'Skeena-Queen Charlotte', 'total']"
      ]
     },
     "execution_count": 15,
     "metadata": {},
     "output_type": "execute_result"
    }
   ],
   "source": [
    "[i for i in list_region2 if i not in pop['regional_district'].value_counts().index]"
   ]
  },
  {
   "cell_type": "code",
   "execution_count": 16,
   "id": "69d0626f",
   "metadata": {
    "scrolled": false
   },
   "outputs": [
    {
     "data": {
      "text/plain": [
       "['Alberni-Clayoquot',\n",
       " 'British Columbia',\n",
       " 'Bulkley-Nechako',\n",
       " 'Capital',\n",
       " 'Cariboo',\n",
       " 'Central Coast',\n",
       " 'Central Kootenay',\n",
       " 'Central Okanagan',\n",
       " 'Columbia-Shuswap',\n",
       " 'Comox Valley',\n",
       " 'Cowichan Valley',\n",
       " 'East Kootenay',\n",
       " 'Fraser Valley',\n",
       " 'Fraser-Fort George',\n",
       " 'Kitimat-Stikine',\n",
       " 'Kootenay-Boundary',\n",
       " 'Metro Vancouver',\n",
       " 'Mount Waddington',\n",
       " 'Nanaimo',\n",
       " 'North Coast',\n",
       " 'North Okanagan',\n",
       " 'Northern Rockies',\n",
       " 'Okanagan-Similkameen',\n",
       " 'Peace River',\n",
       " 'Powell River',\n",
       " 'Squamish-Lillooet',\n",
       " 'Stikine',\n",
       " 'Strathcona',\n",
       " 'Sunshine Coast',\n",
       " 'Thompson-Nicola']"
      ]
     },
     "execution_count": 16,
     "metadata": {},
     "output_type": "execute_result"
    }
   ],
   "source": [
    "sorted(pop['regional_district'].unique())"
   ]
  },
  {
   "cell_type": "code",
   "execution_count": 17,
   "id": "67e34a80",
   "metadata": {},
   "outputs": [],
   "source": [
    "list_region_name = [i for i in list_region2 if i in pop['regional_district'].value_counts().index]"
   ]
  },
  {
   "cell_type": "code",
   "execution_count": 18,
   "id": "9d5c6c7f",
   "metadata": {
    "scrolled": false
   },
   "outputs": [
    {
     "data": {
      "text/plain": [
       "['Alberni-Clayoquot', 'Bulkley-Nechako', 'Capital', 'Cariboo']"
      ]
     },
     "execution_count": 18,
     "metadata": {},
     "output_type": "execute_result"
    }
   ],
   "source": [
    "list_region_name[:4]"
   ]
  },
  {
   "cell_type": "code",
   "execution_count": 19,
   "id": "a29ad5a6",
   "metadata": {},
   "outputs": [
    {
     "data": {
      "text/plain": [
       "['Alberni-Clayoquot.csv', 'Bulkley-Nechako.csv', 'Capital.csv', 'Cariboo.csv']"
      ]
     },
     "execution_count": 19,
     "metadata": {},
     "output_type": "execute_result"
    }
   ],
   "source": [
    "list_region_csv = [i+'.csv' for i in list_region_name]\n",
    "list_region_csv[:4]"
   ]
  },
  {
   "cell_type": "markdown",
   "id": "346ba2ca",
   "metadata": {},
   "source": [
    "### merging pop data with Nanaimo data"
   ]
  },
  {
   "cell_type": "code",
   "execution_count": 20,
   "id": "f694f8cd",
   "metadata": {},
   "outputs": [],
   "source": [
    "# list of all year availabe in cities files"
   ]
  },
  {
   "cell_type": "code",
   "execution_count": 21,
   "id": "3de1d1c2",
   "metadata": {},
   "outputs": [],
   "source": [
    "non_year = pd.read_csv(os.path.join(d0+list_region_csv[16]))['year'].unique()"
   ]
  },
  {
   "cell_type": "code",
   "execution_count": 22,
   "id": "f02e4a7d",
   "metadata": {},
   "outputs": [
    {
     "data": {
      "text/plain": [
       "array([2007, 2008, 2009, 2010, 2011, 2012, 2013, 2014, 2015, 2016, 2017],\n",
       "      dtype=int64)"
      ]
     },
     "execution_count": 22,
     "metadata": {},
     "output_type": "execute_result"
    }
   ],
   "source": [
    "non_year"
   ]
  },
  {
   "cell_type": "code",
   "execution_count": 23,
   "id": "f0bc05de",
   "metadata": {},
   "outputs": [
    {
     "data": {
      "text/html": [
       "<div>\n",
       "<style scoped>\n",
       "    .dataframe tbody tr th:only-of-type {\n",
       "        vertical-align: middle;\n",
       "    }\n",
       "\n",
       "    .dataframe tbody tr th {\n",
       "        vertical-align: top;\n",
       "    }\n",
       "\n",
       "    .dataframe thead th {\n",
       "        text-align: right;\n",
       "    }\n",
       "</style>\n",
       "<table border=\"1\" class=\"dataframe\">\n",
       "  <thead>\n",
       "    <tr style=\"text-align: right;\">\n",
       "      <th></th>\n",
       "      <th>regional_district</th>\n",
       "      <th>year</th>\n",
       "      <th>population</th>\n",
       "    </tr>\n",
       "  </thead>\n",
       "  <tbody>\n",
       "    <tr>\n",
       "      <th>21</th>\n",
       "      <td>British Columbia</td>\n",
       "      <td>2007</td>\n",
       "      <td>4290984</td>\n",
       "    </tr>\n",
       "    <tr>\n",
       "      <th>22</th>\n",
       "      <td>British Columbia</td>\n",
       "      <td>2008</td>\n",
       "      <td>4349336</td>\n",
       "    </tr>\n",
       "    <tr>\n",
       "      <th>23</th>\n",
       "      <td>British Columbia</td>\n",
       "      <td>2009</td>\n",
       "      <td>4410506</td>\n",
       "    </tr>\n",
       "    <tr>\n",
       "      <th>24</th>\n",
       "      <td>British Columbia</td>\n",
       "      <td>2010</td>\n",
       "      <td>4465546</td>\n",
       "    </tr>\n",
       "    <tr>\n",
       "      <th>25</th>\n",
       "      <td>British Columbia</td>\n",
       "      <td>2011</td>\n",
       "      <td>4502104</td>\n",
       "    </tr>\n",
       "    <tr>\n",
       "      <th>26</th>\n",
       "      <td>British Columbia</td>\n",
       "      <td>2012</td>\n",
       "      <td>4566769</td>\n",
       "    </tr>\n",
       "  </tbody>\n",
       "</table>\n",
       "</div>"
      ],
      "text/plain": [
       "   regional_district  year  population\n",
       "21  British Columbia  2007     4290984\n",
       "22  British Columbia  2008     4349336\n",
       "23  British Columbia  2009     4410506\n",
       "24  British Columbia  2010     4465546\n",
       "25  British Columbia  2011     4502104\n",
       "26  British Columbia  2012     4566769"
      ]
     },
     "execution_count": 23,
     "metadata": {},
     "output_type": "execute_result"
    }
   ],
   "source": [
    "pop1 = pop[pop['year'].isin(non_year)]\n",
    "pop1.head(6)"
   ]
  },
  {
   "cell_type": "code",
   "execution_count": 24,
   "id": "b153beb1",
   "metadata": {
    "scrolled": true
   },
   "outputs": [
    {
     "data": {
      "text/plain": [
       "16"
      ]
     },
     "execution_count": 24,
     "metadata": {},
     "output_type": "execute_result"
    }
   ],
   "source": [
    "list_region_name.index('Nanaimo')"
   ]
  },
  {
   "cell_type": "code",
   "execution_count": 25,
   "id": "a1eef0b4",
   "metadata": {},
   "outputs": [
    {
     "data": {
      "text/html": [
       "<div>\n",
       "<style scoped>\n",
       "    .dataframe tbody tr th:only-of-type {\n",
       "        vertical-align: middle;\n",
       "    }\n",
       "\n",
       "    .dataframe tbody tr th {\n",
       "        vertical-align: top;\n",
       "    }\n",
       "\n",
       "    .dataframe thead th {\n",
       "        text-align: right;\n",
       "    }\n",
       "</style>\n",
       "<table border=\"1\" class=\"dataframe\">\n",
       "  <thead>\n",
       "    <tr style=\"text-align: right;\">\n",
       "      <th></th>\n",
       "      <th>regional_district</th>\n",
       "      <th>year</th>\n",
       "      <th>population</th>\n",
       "    </tr>\n",
       "  </thead>\n",
       "  <tbody>\n",
       "    <tr>\n",
       "      <th>318</th>\n",
       "      <td>Nanaimo</td>\n",
       "      <td>2007</td>\n",
       "      <td>142207</td>\n",
       "    </tr>\n",
       "    <tr>\n",
       "      <th>319</th>\n",
       "      <td>Nanaimo</td>\n",
       "      <td>2008</td>\n",
       "      <td>144547</td>\n",
       "    </tr>\n",
       "    <tr>\n",
       "      <th>320</th>\n",
       "      <td>Nanaimo</td>\n",
       "      <td>2009</td>\n",
       "      <td>146271</td>\n",
       "    </tr>\n",
       "    <tr>\n",
       "      <th>321</th>\n",
       "      <td>Nanaimo</td>\n",
       "      <td>2010</td>\n",
       "      <td>147464</td>\n",
       "    </tr>\n",
       "    <tr>\n",
       "      <th>322</th>\n",
       "      <td>Nanaimo</td>\n",
       "      <td>2011</td>\n",
       "      <td>148877</td>\n",
       "    </tr>\n",
       "  </tbody>\n",
       "</table>\n",
       "</div>"
      ],
      "text/plain": [
       "    regional_district  year  population\n",
       "318           Nanaimo  2007      142207\n",
       "319           Nanaimo  2008      144547\n",
       "320           Nanaimo  2009      146271\n",
       "321           Nanaimo  2010      147464\n",
       "322           Nanaimo  2011      148877"
      ]
     },
     "execution_count": 25,
     "metadata": {},
     "output_type": "execute_result"
    }
   ],
   "source": [
    "pop_non = pop1[pop1['regional_district']==list_region_name[16]]\n",
    "pop_non.head()"
   ]
  },
  {
   "cell_type": "code",
   "execution_count": 26,
   "id": "2a4c4a7e",
   "metadata": {
    "scrolled": true
   },
   "outputs": [
    {
     "data": {
      "text/html": [
       "<div>\n",
       "<style scoped>\n",
       "    .dataframe tbody tr th:only-of-type {\n",
       "        vertical-align: middle;\n",
       "    }\n",
       "\n",
       "    .dataframe tbody tr th {\n",
       "        vertical-align: top;\n",
       "    }\n",
       "\n",
       "    .dataframe thead th {\n",
       "        text-align: right;\n",
       "    }\n",
       "</style>\n",
       "<table border=\"1\" class=\"dataframe\">\n",
       "  <thead>\n",
       "    <tr style=\"text-align: right;\">\n",
       "      <th></th>\n",
       "      <th>regional_district</th>\n",
       "      <th>year</th>\n",
       "      <th>population</th>\n",
       "      <th>Units Collected</th>\n",
       "      <th>Weight Collected (Tonnes)</th>\n",
       "    </tr>\n",
       "  </thead>\n",
       "  <tbody>\n",
       "    <tr>\n",
       "      <th>0</th>\n",
       "      <td>Nanaimo</td>\n",
       "      <td>2007</td>\n",
       "      <td>142207</td>\n",
       "      <td>32136000</td>\n",
       "      <td>2441.2</td>\n",
       "    </tr>\n",
       "    <tr>\n",
       "      <th>1</th>\n",
       "      <td>Nanaimo</td>\n",
       "      <td>2008</td>\n",
       "      <td>144547</td>\n",
       "      <td>34274000</td>\n",
       "      <td>2823.4</td>\n",
       "    </tr>\n",
       "    <tr>\n",
       "      <th>2</th>\n",
       "      <td>Nanaimo</td>\n",
       "      <td>2009</td>\n",
       "      <td>146271</td>\n",
       "      <td>35586000</td>\n",
       "      <td>3309.8</td>\n",
       "    </tr>\n",
       "    <tr>\n",
       "      <th>3</th>\n",
       "      <td>Nanaimo</td>\n",
       "      <td>2010</td>\n",
       "      <td>147464</td>\n",
       "      <td>34453000</td>\n",
       "      <td>3574.2</td>\n",
       "    </tr>\n",
       "    <tr>\n",
       "      <th>4</th>\n",
       "      <td>Nanaimo</td>\n",
       "      <td>2011</td>\n",
       "      <td>148877</td>\n",
       "      <td>33365000</td>\n",
       "      <td>3319.5</td>\n",
       "    </tr>\n",
       "    <tr>\n",
       "      <th>5</th>\n",
       "      <td>Nanaimo</td>\n",
       "      <td>2012</td>\n",
       "      <td>150017</td>\n",
       "      <td>32918000</td>\n",
       "      <td>3287.6</td>\n",
       "    </tr>\n",
       "    <tr>\n",
       "      <th>6</th>\n",
       "      <td>Nanaimo</td>\n",
       "      <td>2013</td>\n",
       "      <td>152158</td>\n",
       "      <td>33033000</td>\n",
       "      <td>3315.6</td>\n",
       "    </tr>\n",
       "    <tr>\n",
       "      <th>7</th>\n",
       "      <td>Nanaimo</td>\n",
       "      <td>2014</td>\n",
       "      <td>155118</td>\n",
       "      <td>33487000</td>\n",
       "      <td>-99999.0</td>\n",
       "    </tr>\n",
       "    <tr>\n",
       "      <th>8</th>\n",
       "      <td>Nanaimo</td>\n",
       "      <td>2015</td>\n",
       "      <td>158143</td>\n",
       "      <td>35765000</td>\n",
       "      <td>3508.7</td>\n",
       "    </tr>\n",
       "    <tr>\n",
       "      <th>9</th>\n",
       "      <td>Nanaimo</td>\n",
       "      <td>2016</td>\n",
       "      <td>162617</td>\n",
       "      <td>35632000</td>\n",
       "      <td>3505.0</td>\n",
       "    </tr>\n",
       "    <tr>\n",
       "      <th>10</th>\n",
       "      <td>Nanaimo</td>\n",
       "      <td>2017</td>\n",
       "      <td>164700</td>\n",
       "      <td>36866000</td>\n",
       "      <td>3595.8</td>\n",
       "    </tr>\n",
       "  </tbody>\n",
       "</table>\n",
       "</div>"
      ],
      "text/plain": [
       "   regional_district  year  population  Units Collected  \\\n",
       "0            Nanaimo  2007      142207         32136000   \n",
       "1            Nanaimo  2008      144547         34274000   \n",
       "2            Nanaimo  2009      146271         35586000   \n",
       "3            Nanaimo  2010      147464         34453000   \n",
       "4            Nanaimo  2011      148877         33365000   \n",
       "5            Nanaimo  2012      150017         32918000   \n",
       "6            Nanaimo  2013      152158         33033000   \n",
       "7            Nanaimo  2014      155118         33487000   \n",
       "8            Nanaimo  2015      158143         35765000   \n",
       "9            Nanaimo  2016      162617         35632000   \n",
       "10           Nanaimo  2017      164700         36866000   \n",
       "\n",
       "    Weight Collected (Tonnes)  \n",
       "0                      2441.2  \n",
       "1                      2823.4  \n",
       "2                      3309.8  \n",
       "3                      3574.2  \n",
       "4                      3319.5  \n",
       "5                      3287.6  \n",
       "6                      3315.6  \n",
       "7                    -99999.0  \n",
       "8                      3508.7  \n",
       "9                      3505.0  \n",
       "10                     3595.8  "
      ]
     },
     "execution_count": 26,
     "metadata": {},
     "output_type": "execute_result"
    }
   ],
   "source": [
    "pd.merge(pop_non,pd.read_csv(os.path.join(d0+list_region_csv[16])),on='year' , how='inner')"
   ]
  },
  {
   "cell_type": "code",
   "execution_count": 27,
   "id": "36ef5ec1",
   "metadata": {},
   "outputs": [
    {
     "data": {
      "text/plain": [
       "'D:project6 - raw data/Alberni-Clayoquot.csv'"
      ]
     },
     "execution_count": 27,
     "metadata": {},
     "output_type": "execute_result"
    }
   ],
   "source": [
    "os.path.join(d0,list_region_csv[0])"
   ]
  },
  {
   "cell_type": "code",
   "execution_count": 28,
   "id": "02e2c209",
   "metadata": {
    "scrolled": true
   },
   "outputs": [
    {
     "data": {
      "text/plain": [
       "'D:project6 - raw data/Nanaimo.csv'"
      ]
     },
     "execution_count": 28,
     "metadata": {},
     "output_type": "execute_result"
    }
   ],
   "source": [
    "os.path.join(d0,list_region_csv[16])"
   ]
  },
  {
   "cell_type": "code",
   "execution_count": 29,
   "id": "638ca4f6",
   "metadata": {
    "scrolled": true
   },
   "outputs": [
    {
     "data": {
      "text/html": [
       "<div>\n",
       "<style scoped>\n",
       "    .dataframe tbody tr th:only-of-type {\n",
       "        vertical-align: middle;\n",
       "    }\n",
       "\n",
       "    .dataframe tbody tr th {\n",
       "        vertical-align: top;\n",
       "    }\n",
       "\n",
       "    .dataframe thead th {\n",
       "        text-align: right;\n",
       "    }\n",
       "</style>\n",
       "<table border=\"1\" class=\"dataframe\">\n",
       "  <thead>\n",
       "    <tr style=\"text-align: right;\">\n",
       "      <th></th>\n",
       "      <th>year</th>\n",
       "      <th>Units Collected</th>\n",
       "      <th>Weight Collected (Tonnes)</th>\n",
       "    </tr>\n",
       "  </thead>\n",
       "  <tbody>\n",
       "    <tr>\n",
       "      <th>0</th>\n",
       "      <td>2007</td>\n",
       "      <td>32136000</td>\n",
       "      <td>2441.2</td>\n",
       "    </tr>\n",
       "    <tr>\n",
       "      <th>1</th>\n",
       "      <td>2008</td>\n",
       "      <td>34274000</td>\n",
       "      <td>2823.4</td>\n",
       "    </tr>\n",
       "    <tr>\n",
       "      <th>2</th>\n",
       "      <td>2009</td>\n",
       "      <td>35586000</td>\n",
       "      <td>3309.8</td>\n",
       "    </tr>\n",
       "    <tr>\n",
       "      <th>3</th>\n",
       "      <td>2010</td>\n",
       "      <td>34453000</td>\n",
       "      <td>3574.2</td>\n",
       "    </tr>\n",
       "    <tr>\n",
       "      <th>4</th>\n",
       "      <td>2011</td>\n",
       "      <td>33365000</td>\n",
       "      <td>3319.5</td>\n",
       "    </tr>\n",
       "  </tbody>\n",
       "</table>\n",
       "</div>"
      ],
      "text/plain": [
       "   year  Units Collected  Weight Collected (Tonnes)\n",
       "0  2007         32136000                     2441.2\n",
       "1  2008         34274000                     2823.4\n",
       "2  2009         35586000                     3309.8\n",
       "3  2010         34453000                     3574.2\n",
       "4  2011         33365000                     3319.5"
      ]
     },
     "execution_count": 29,
     "metadata": {},
     "output_type": "execute_result"
    }
   ],
   "source": [
    "pd.read_csv(os.path.join(d0,list_region_csv[16])).head()"
   ]
  },
  {
   "cell_type": "code",
   "execution_count": 30,
   "id": "245f2da4",
   "metadata": {},
   "outputs": [
    {
     "name": "stdout",
     "output_type": "stream",
     "text": [
      "D:project6 - raw data/Alberni-Clayoquot.csv\n"
     ]
    }
   ],
   "source": [
    "x = os.path.join(d0,list_region_csv[0])\n",
    "print(x)"
   ]
  },
  {
   "cell_type": "code",
   "execution_count": 31,
   "id": "cd488294",
   "metadata": {},
   "outputs": [
    {
     "data": {
      "text/html": [
       "<div>\n",
       "<style scoped>\n",
       "    .dataframe tbody tr th:only-of-type {\n",
       "        vertical-align: middle;\n",
       "    }\n",
       "\n",
       "    .dataframe tbody tr th {\n",
       "        vertical-align: top;\n",
       "    }\n",
       "\n",
       "    .dataframe thead th {\n",
       "        text-align: right;\n",
       "    }\n",
       "</style>\n",
       "<table border=\"1\" class=\"dataframe\">\n",
       "  <thead>\n",
       "    <tr style=\"text-align: right;\">\n",
       "      <th></th>\n",
       "      <th>measure</th>\n",
       "      <th>year</th>\n",
       "      <th>value</th>\n",
       "    </tr>\n",
       "  </thead>\n",
       "  <tbody>\n",
       "    <tr>\n",
       "      <th>0</th>\n",
       "      <td>Units Collected</td>\n",
       "      <td>2007</td>\n",
       "      <td>9138000.0</td>\n",
       "    </tr>\n",
       "    <tr>\n",
       "      <th>1</th>\n",
       "      <td>Weight Collected (Tonnes)</td>\n",
       "      <td>2007</td>\n",
       "      <td>607.4</td>\n",
       "    </tr>\n",
       "    <tr>\n",
       "      <th>2</th>\n",
       "      <td>Units Collected</td>\n",
       "      <td>2008</td>\n",
       "      <td>9921000.0</td>\n",
       "    </tr>\n",
       "    <tr>\n",
       "      <th>3</th>\n",
       "      <td>Weight Collected (Tonnes)</td>\n",
       "      <td>2008</td>\n",
       "      <td>695.0</td>\n",
       "    </tr>\n",
       "    <tr>\n",
       "      <th>4</th>\n",
       "      <td>Units Collected</td>\n",
       "      <td>2009</td>\n",
       "      <td>10037000.0</td>\n",
       "    </tr>\n",
       "  </tbody>\n",
       "</table>\n",
       "</div>"
      ],
      "text/plain": [
       "                     measure  year       value\n",
       "0            Units Collected  2007   9138000.0\n",
       "1  Weight Collected (Tonnes)  2007       607.4\n",
       "2            Units Collected  2008   9921000.0\n",
       "3  Weight Collected (Tonnes)  2008       695.0\n",
       "4            Units Collected  2009  10037000.0"
      ]
     },
     "execution_count": 31,
     "metadata": {},
     "output_type": "execute_result"
    }
   ],
   "source": [
    "pd.read_csv(x).head()"
   ]
  },
  {
   "cell_type": "code",
   "execution_count": 32,
   "id": "8ee0f55c",
   "metadata": {
    "scrolled": true
   },
   "outputs": [
    {
     "data": {
      "text/html": [
       "<div>\n",
       "<style scoped>\n",
       "    .dataframe tbody tr th:only-of-type {\n",
       "        vertical-align: middle;\n",
       "    }\n",
       "\n",
       "    .dataframe tbody tr th {\n",
       "        vertical-align: top;\n",
       "    }\n",
       "\n",
       "    .dataframe thead th {\n",
       "        text-align: right;\n",
       "    }\n",
       "</style>\n",
       "<table border=\"1\" class=\"dataframe\">\n",
       "  <thead>\n",
       "    <tr style=\"text-align: right;\">\n",
       "      <th>measure</th>\n",
       "      <th>Units Collected</th>\n",
       "      <th>Weight Collected (Tonnes)</th>\n",
       "    </tr>\n",
       "    <tr>\n",
       "      <th>year</th>\n",
       "      <th></th>\n",
       "      <th></th>\n",
       "    </tr>\n",
       "  </thead>\n",
       "  <tbody>\n",
       "    <tr>\n",
       "      <th>2007</th>\n",
       "      <td>9138000.0</td>\n",
       "      <td>607.4</td>\n",
       "    </tr>\n",
       "    <tr>\n",
       "      <th>2008</th>\n",
       "      <td>9921000.0</td>\n",
       "      <td>695.0</td>\n",
       "    </tr>\n",
       "    <tr>\n",
       "      <th>2009</th>\n",
       "      <td>10037000.0</td>\n",
       "      <td>787.6</td>\n",
       "    </tr>\n",
       "    <tr>\n",
       "      <th>2010</th>\n",
       "      <td>9682000.0</td>\n",
       "      <td>787.8</td>\n",
       "    </tr>\n",
       "    <tr>\n",
       "      <th>2011</th>\n",
       "      <td>9185000.0</td>\n",
       "      <td>712.5</td>\n",
       "    </tr>\n",
       "    <tr>\n",
       "      <th>2012</th>\n",
       "      <td>9081000.0</td>\n",
       "      <td>704.9</td>\n",
       "    </tr>\n",
       "    <tr>\n",
       "      <th>2013</th>\n",
       "      <td>8829000.0</td>\n",
       "      <td>-99999.0</td>\n",
       "    </tr>\n",
       "    <tr>\n",
       "      <th>2014</th>\n",
       "      <td>9194000.0</td>\n",
       "      <td>746.5</td>\n",
       "    </tr>\n",
       "    <tr>\n",
       "      <th>2015</th>\n",
       "      <td>9685000.0</td>\n",
       "      <td>787.4</td>\n",
       "    </tr>\n",
       "    <tr>\n",
       "      <th>2016</th>\n",
       "      <td>9924000.0</td>\n",
       "      <td>809.0</td>\n",
       "    </tr>\n",
       "    <tr>\n",
       "      <th>2017</th>\n",
       "      <td>10300000.0</td>\n",
       "      <td>-99999.0</td>\n",
       "    </tr>\n",
       "  </tbody>\n",
       "</table>\n",
       "</div>"
      ],
      "text/plain": [
       "measure  Units Collected  Weight Collected (Tonnes)\n",
       "year                                               \n",
       "2007           9138000.0                      607.4\n",
       "2008           9921000.0                      695.0\n",
       "2009          10037000.0                      787.6\n",
       "2010           9682000.0                      787.8\n",
       "2011           9185000.0                      712.5\n",
       "2012           9081000.0                      704.9\n",
       "2013           8829000.0                   -99999.0\n",
       "2014           9194000.0                      746.5\n",
       "2015           9685000.0                      787.4\n",
       "2016           9924000.0                      809.0\n",
       "2017          10300000.0                   -99999.0"
      ]
     },
     "execution_count": 32,
     "metadata": {},
     "output_type": "execute_result"
    }
   ],
   "source": [
    "pd.pivot_table(data = pd.read_csv(os.path.join(d0,list_region_csv[0])),index='year',columns='measure',values='value',aggfunc='sum')"
   ]
  },
  {
   "cell_type": "code",
   "execution_count": 33,
   "id": "1c84d0df",
   "metadata": {
    "scrolled": false
   },
   "outputs": [
    {
     "data": {
      "text/plain": [
       "['Alberni-Clayoquot.csv',\n",
       " 'Bulkley-Nechako.csv',\n",
       " 'Capital.csv',\n",
       " 'Cariboo.csv',\n",
       " 'Central Coast.csv',\n",
       " 'Central Kootenay.csv',\n",
       " 'Central Okanagan.csv',\n",
       " 'Columbia-Shuswap.csv',\n",
       " 'Cowichan Valley.csv',\n",
       " 'East Kootenay.csv',\n",
       " 'Fraser Valley.csv',\n",
       " 'Fraser-Fort George.csv',\n",
       " 'Kitimat-Stikine.csv',\n",
       " 'Kootenay-Boundary.csv',\n",
       " 'Metro Vancouver.csv',\n",
       " 'Mount Waddington.csv',\n",
       " 'Nanaimo.csv',\n",
       " 'North Okanagan.csv',\n",
       " 'Northern Rockies.csv',\n",
       " 'Okanagan-Similkameen.csv',\n",
       " 'Peace River.csv',\n",
       " 'Powell River.csv',\n",
       " 'Squamish-Lillooet.csv',\n",
       " 'Strathcona.csv',\n",
       " 'Sunshine Coast.csv',\n",
       " 'Thompson-Nicola.csv']"
      ]
     },
     "execution_count": 33,
     "metadata": {},
     "output_type": "execute_result"
    }
   ],
   "source": [
    "list_region_csv"
   ]
  },
  {
   "cell_type": "code",
   "execution_count": 34,
   "id": "96609b21",
   "metadata": {},
   "outputs": [
    {
     "data": {
      "text/plain": [
       "1"
      ]
     },
     "execution_count": 34,
     "metadata": {},
     "output_type": "execute_result"
    }
   ],
   "source": [
    "sum([1 for i in pd.read_csv(x).columns if i=='measure'])"
   ]
  },
  {
   "cell_type": "code",
   "execution_count": 35,
   "id": "8e09d7cc",
   "metadata": {},
   "outputs": [],
   "source": [
    "df1 = pd.pivot_table(data = pd.read_csv(os.path.join(d0,list_region_csv[0])),index='year',columns='measure',values='value',aggfunc='sum')"
   ]
  },
  {
   "cell_type": "code",
   "execution_count": 36,
   "id": "670dd8a7",
   "metadata": {
    "scrolled": false
   },
   "outputs": [
    {
     "data": {
      "text/html": [
       "<div>\n",
       "<style scoped>\n",
       "    .dataframe tbody tr th:only-of-type {\n",
       "        vertical-align: middle;\n",
       "    }\n",
       "\n",
       "    .dataframe tbody tr th {\n",
       "        vertical-align: top;\n",
       "    }\n",
       "\n",
       "    .dataframe thead th {\n",
       "        text-align: right;\n",
       "    }\n",
       "</style>\n",
       "<table border=\"1\" class=\"dataframe\">\n",
       "  <thead>\n",
       "    <tr style=\"text-align: right;\">\n",
       "      <th>measure</th>\n",
       "      <th>Units Collected</th>\n",
       "      <th>Weight Collected (Tonnes)</th>\n",
       "    </tr>\n",
       "    <tr>\n",
       "      <th>year</th>\n",
       "      <th></th>\n",
       "      <th></th>\n",
       "    </tr>\n",
       "  </thead>\n",
       "  <tbody>\n",
       "    <tr>\n",
       "      <th>2007</th>\n",
       "      <td>9138000.0</td>\n",
       "      <td>607.4</td>\n",
       "    </tr>\n",
       "    <tr>\n",
       "      <th>2008</th>\n",
       "      <td>9921000.0</td>\n",
       "      <td>695.0</td>\n",
       "    </tr>\n",
       "    <tr>\n",
       "      <th>2009</th>\n",
       "      <td>10037000.0</td>\n",
       "      <td>787.6</td>\n",
       "    </tr>\n",
       "    <tr>\n",
       "      <th>2010</th>\n",
       "      <td>9682000.0</td>\n",
       "      <td>787.8</td>\n",
       "    </tr>\n",
       "    <tr>\n",
       "      <th>2011</th>\n",
       "      <td>9185000.0</td>\n",
       "      <td>712.5</td>\n",
       "    </tr>\n",
       "    <tr>\n",
       "      <th>2012</th>\n",
       "      <td>9081000.0</td>\n",
       "      <td>704.9</td>\n",
       "    </tr>\n",
       "    <tr>\n",
       "      <th>2013</th>\n",
       "      <td>8829000.0</td>\n",
       "      <td>-99999.0</td>\n",
       "    </tr>\n",
       "    <tr>\n",
       "      <th>2014</th>\n",
       "      <td>9194000.0</td>\n",
       "      <td>746.5</td>\n",
       "    </tr>\n",
       "    <tr>\n",
       "      <th>2015</th>\n",
       "      <td>9685000.0</td>\n",
       "      <td>787.4</td>\n",
       "    </tr>\n",
       "    <tr>\n",
       "      <th>2016</th>\n",
       "      <td>9924000.0</td>\n",
       "      <td>809.0</td>\n",
       "    </tr>\n",
       "    <tr>\n",
       "      <th>2017</th>\n",
       "      <td>10300000.0</td>\n",
       "      <td>-99999.0</td>\n",
       "    </tr>\n",
       "  </tbody>\n",
       "</table>\n",
       "</div>"
      ],
      "text/plain": [
       "measure  Units Collected  Weight Collected (Tonnes)\n",
       "year                                               \n",
       "2007           9138000.0                      607.4\n",
       "2008           9921000.0                      695.0\n",
       "2009          10037000.0                      787.6\n",
       "2010           9682000.0                      787.8\n",
       "2011           9185000.0                      712.5\n",
       "2012           9081000.0                      704.9\n",
       "2013           8829000.0                   -99999.0\n",
       "2014           9194000.0                      746.5\n",
       "2015           9685000.0                      787.4\n",
       "2016           9924000.0                      809.0\n",
       "2017          10300000.0                   -99999.0"
      ]
     },
     "execution_count": 36,
     "metadata": {},
     "output_type": "execute_result"
    }
   ],
   "source": [
    "df1"
   ]
  },
  {
   "cell_type": "code",
   "execution_count": 37,
   "id": "f95d2262",
   "metadata": {},
   "outputs": [
    {
     "data": {
      "text/plain": [
       "'D:project6 - raw data/Alberni-Clayoquot.csv'"
      ]
     },
     "execution_count": 37,
     "metadata": {},
     "output_type": "execute_result"
    }
   ],
   "source": [
    "os.path.join(d0,list_region_csv[0])"
   ]
  },
  {
   "cell_type": "code",
   "execution_count": 38,
   "id": "ab2bc061",
   "metadata": {},
   "outputs": [
    {
     "data": {
      "text/html": [
       "<div>\n",
       "<style scoped>\n",
       "    .dataframe tbody tr th:only-of-type {\n",
       "        vertical-align: middle;\n",
       "    }\n",
       "\n",
       "    .dataframe tbody tr th {\n",
       "        vertical-align: top;\n",
       "    }\n",
       "\n",
       "    .dataframe thead th {\n",
       "        text-align: right;\n",
       "    }\n",
       "</style>\n",
       "<table border=\"1\" class=\"dataframe\">\n",
       "  <thead>\n",
       "    <tr style=\"text-align: right;\">\n",
       "      <th></th>\n",
       "      <th>measure</th>\n",
       "      <th>year</th>\n",
       "      <th>value</th>\n",
       "    </tr>\n",
       "  </thead>\n",
       "  <tbody>\n",
       "    <tr>\n",
       "      <th>0</th>\n",
       "      <td>Units Collected</td>\n",
       "      <td>2007</td>\n",
       "      <td>9138000.0</td>\n",
       "    </tr>\n",
       "    <tr>\n",
       "      <th>1</th>\n",
       "      <td>Weight Collected (Tonnes)</td>\n",
       "      <td>2007</td>\n",
       "      <td>607.4</td>\n",
       "    </tr>\n",
       "    <tr>\n",
       "      <th>2</th>\n",
       "      <td>Units Collected</td>\n",
       "      <td>2008</td>\n",
       "      <td>9921000.0</td>\n",
       "    </tr>\n",
       "    <tr>\n",
       "      <th>3</th>\n",
       "      <td>Weight Collected (Tonnes)</td>\n",
       "      <td>2008</td>\n",
       "      <td>695.0</td>\n",
       "    </tr>\n",
       "    <tr>\n",
       "      <th>4</th>\n",
       "      <td>Units Collected</td>\n",
       "      <td>2009</td>\n",
       "      <td>10037000.0</td>\n",
       "    </tr>\n",
       "    <tr>\n",
       "      <th>5</th>\n",
       "      <td>Weight Collected (Tonnes)</td>\n",
       "      <td>2009</td>\n",
       "      <td>787.6</td>\n",
       "    </tr>\n",
       "    <tr>\n",
       "      <th>6</th>\n",
       "      <td>Units Collected</td>\n",
       "      <td>2010</td>\n",
       "      <td>9682000.0</td>\n",
       "    </tr>\n",
       "    <tr>\n",
       "      <th>7</th>\n",
       "      <td>Weight Collected (Tonnes)</td>\n",
       "      <td>2010</td>\n",
       "      <td>787.8</td>\n",
       "    </tr>\n",
       "    <tr>\n",
       "      <th>8</th>\n",
       "      <td>Units Collected</td>\n",
       "      <td>2011</td>\n",
       "      <td>9185000.0</td>\n",
       "    </tr>\n",
       "    <tr>\n",
       "      <th>9</th>\n",
       "      <td>Weight Collected (Tonnes)</td>\n",
       "      <td>2011</td>\n",
       "      <td>712.5</td>\n",
       "    </tr>\n",
       "    <tr>\n",
       "      <th>10</th>\n",
       "      <td>Units Collected</td>\n",
       "      <td>2012</td>\n",
       "      <td>9081000.0</td>\n",
       "    </tr>\n",
       "    <tr>\n",
       "      <th>11</th>\n",
       "      <td>Weight Collected (Tonnes)</td>\n",
       "      <td>2012</td>\n",
       "      <td>704.9</td>\n",
       "    </tr>\n",
       "    <tr>\n",
       "      <th>12</th>\n",
       "      <td>Units Collected</td>\n",
       "      <td>2013</td>\n",
       "      <td>8829000.0</td>\n",
       "    </tr>\n",
       "    <tr>\n",
       "      <th>13</th>\n",
       "      <td>Weight Collected (Tonnes)</td>\n",
       "      <td>2013</td>\n",
       "      <td>-99999.0</td>\n",
       "    </tr>\n",
       "    <tr>\n",
       "      <th>14</th>\n",
       "      <td>Units Collected</td>\n",
       "      <td>2014</td>\n",
       "      <td>9194000.0</td>\n",
       "    </tr>\n",
       "    <tr>\n",
       "      <th>15</th>\n",
       "      <td>Weight Collected (Tonnes)</td>\n",
       "      <td>2014</td>\n",
       "      <td>746.5</td>\n",
       "    </tr>\n",
       "    <tr>\n",
       "      <th>16</th>\n",
       "      <td>Units Collected</td>\n",
       "      <td>2015</td>\n",
       "      <td>9685000.0</td>\n",
       "    </tr>\n",
       "    <tr>\n",
       "      <th>17</th>\n",
       "      <td>Weight Collected (Tonnes)</td>\n",
       "      <td>2015</td>\n",
       "      <td>787.4</td>\n",
       "    </tr>\n",
       "    <tr>\n",
       "      <th>18</th>\n",
       "      <td>Units Collected</td>\n",
       "      <td>2016</td>\n",
       "      <td>9924000.0</td>\n",
       "    </tr>\n",
       "    <tr>\n",
       "      <th>19</th>\n",
       "      <td>Weight Collected (Tonnes)</td>\n",
       "      <td>2016</td>\n",
       "      <td>809.0</td>\n",
       "    </tr>\n",
       "    <tr>\n",
       "      <th>20</th>\n",
       "      <td>Units Collected</td>\n",
       "      <td>2017</td>\n",
       "      <td>10300000.0</td>\n",
       "    </tr>\n",
       "    <tr>\n",
       "      <th>21</th>\n",
       "      <td>Weight Collected (Tonnes)</td>\n",
       "      <td>2017</td>\n",
       "      <td>-99999.0</td>\n",
       "    </tr>\n",
       "  </tbody>\n",
       "</table>\n",
       "</div>"
      ],
      "text/plain": [
       "                      measure  year       value\n",
       "0             Units Collected  2007   9138000.0\n",
       "1   Weight Collected (Tonnes)  2007       607.4\n",
       "2             Units Collected  2008   9921000.0\n",
       "3   Weight Collected (Tonnes)  2008       695.0\n",
       "4             Units Collected  2009  10037000.0\n",
       "5   Weight Collected (Tonnes)  2009       787.6\n",
       "6             Units Collected  2010   9682000.0\n",
       "7   Weight Collected (Tonnes)  2010       787.8\n",
       "8             Units Collected  2011   9185000.0\n",
       "9   Weight Collected (Tonnes)  2011       712.5\n",
       "10            Units Collected  2012   9081000.0\n",
       "11  Weight Collected (Tonnes)  2012       704.9\n",
       "12            Units Collected  2013   8829000.0\n",
       "13  Weight Collected (Tonnes)  2013    -99999.0\n",
       "14            Units Collected  2014   9194000.0\n",
       "15  Weight Collected (Tonnes)  2014       746.5\n",
       "16            Units Collected  2015   9685000.0\n",
       "17  Weight Collected (Tonnes)  2015       787.4\n",
       "18            Units Collected  2016   9924000.0\n",
       "19  Weight Collected (Tonnes)  2016       809.0\n",
       "20            Units Collected  2017  10300000.0\n",
       "21  Weight Collected (Tonnes)  2017    -99999.0"
      ]
     },
     "execution_count": 38,
     "metadata": {},
     "output_type": "execute_result"
    }
   ],
   "source": [
    "pd.read_csv(os.path.join(d0,list_region_csv[0]))"
   ]
  },
  {
   "cell_type": "code",
   "execution_count": 39,
   "id": "9a0e3f24",
   "metadata": {},
   "outputs": [
    {
     "data": {
      "text/html": [
       "<div>\n",
       "<style scoped>\n",
       "    .dataframe tbody tr th:only-of-type {\n",
       "        vertical-align: middle;\n",
       "    }\n",
       "\n",
       "    .dataframe tbody tr th {\n",
       "        vertical-align: top;\n",
       "    }\n",
       "\n",
       "    .dataframe thead th {\n",
       "        text-align: right;\n",
       "    }\n",
       "</style>\n",
       "<table border=\"1\" class=\"dataframe\">\n",
       "  <thead>\n",
       "    <tr style=\"text-align: right;\">\n",
       "      <th></th>\n",
       "      <th>regional_district</th>\n",
       "      <th>year</th>\n",
       "      <th>population</th>\n",
       "    </tr>\n",
       "  </thead>\n",
       "  <tbody>\n",
       "    <tr>\n",
       "      <th>351</th>\n",
       "      <td>Alberni-Clayoquot</td>\n",
       "      <td>2007</td>\n",
       "      <td>31008</td>\n",
       "    </tr>\n",
       "    <tr>\n",
       "      <th>352</th>\n",
       "      <td>Alberni-Clayoquot</td>\n",
       "      <td>2008</td>\n",
       "      <td>31225</td>\n",
       "    </tr>\n",
       "    <tr>\n",
       "      <th>353</th>\n",
       "      <td>Alberni-Clayoquot</td>\n",
       "      <td>2009</td>\n",
       "      <td>31313</td>\n",
       "    </tr>\n",
       "    <tr>\n",
       "      <th>354</th>\n",
       "      <td>Alberni-Clayoquot</td>\n",
       "      <td>2010</td>\n",
       "      <td>31303</td>\n",
       "    </tr>\n",
       "    <tr>\n",
       "      <th>355</th>\n",
       "      <td>Alberni-Clayoquot</td>\n",
       "      <td>2011</td>\n",
       "      <td>31602</td>\n",
       "    </tr>\n",
       "    <tr>\n",
       "      <th>356</th>\n",
       "      <td>Alberni-Clayoquot</td>\n",
       "      <td>2012</td>\n",
       "      <td>31429</td>\n",
       "    </tr>\n",
       "    <tr>\n",
       "      <th>357</th>\n",
       "      <td>Alberni-Clayoquot</td>\n",
       "      <td>2013</td>\n",
       "      <td>31458</td>\n",
       "    </tr>\n",
       "    <tr>\n",
       "      <th>358</th>\n",
       "      <td>Alberni-Clayoquot</td>\n",
       "      <td>2014</td>\n",
       "      <td>31962</td>\n",
       "    </tr>\n",
       "    <tr>\n",
       "      <th>359</th>\n",
       "      <td>Alberni-Clayoquot</td>\n",
       "      <td>2015</td>\n",
       "      <td>31887</td>\n",
       "    </tr>\n",
       "    <tr>\n",
       "      <th>360</th>\n",
       "      <td>Alberni-Clayoquot</td>\n",
       "      <td>2016</td>\n",
       "      <td>32305</td>\n",
       "    </tr>\n",
       "    <tr>\n",
       "      <th>361</th>\n",
       "      <td>Alberni-Clayoquot</td>\n",
       "      <td>2017</td>\n",
       "      <td>32665</td>\n",
       "    </tr>\n",
       "  </tbody>\n",
       "</table>\n",
       "</div>"
      ],
      "text/plain": [
       "     regional_district  year  population\n",
       "351  Alberni-Clayoquot  2007       31008\n",
       "352  Alberni-Clayoquot  2008       31225\n",
       "353  Alberni-Clayoquot  2009       31313\n",
       "354  Alberni-Clayoquot  2010       31303\n",
       "355  Alberni-Clayoquot  2011       31602\n",
       "356  Alberni-Clayoquot  2012       31429\n",
       "357  Alberni-Clayoquot  2013       31458\n",
       "358  Alberni-Clayoquot  2014       31962\n",
       "359  Alberni-Clayoquot  2015       31887\n",
       "360  Alberni-Clayoquot  2016       32305\n",
       "361  Alberni-Clayoquot  2017       32665"
      ]
     },
     "execution_count": 39,
     "metadata": {},
     "output_type": "execute_result"
    }
   ],
   "source": [
    "pop1[pop1['regional_district']==list_region_name[0]]"
   ]
  },
  {
   "cell_type": "code",
   "execution_count": 53,
   "id": "f3c62c58",
   "metadata": {
    "scrolled": true
   },
   "outputs": [
    {
     "data": {
      "text/html": [
       "<div>\n",
       "<style scoped>\n",
       "    .dataframe tbody tr th:only-of-type {\n",
       "        vertical-align: middle;\n",
       "    }\n",
       "\n",
       "    .dataframe tbody tr th {\n",
       "        vertical-align: top;\n",
       "    }\n",
       "\n",
       "    .dataframe thead th {\n",
       "        text-align: right;\n",
       "    }\n",
       "</style>\n",
       "<table border=\"1\" class=\"dataframe\">\n",
       "  <thead>\n",
       "    <tr style=\"text-align: right;\">\n",
       "      <th></th>\n",
       "      <th>regional_district</th>\n",
       "      <th>year</th>\n",
       "      <th>population</th>\n",
       "      <th>Units Collected</th>\n",
       "      <th>Weight Collected (Tonnes)</th>\n",
       "    </tr>\n",
       "  </thead>\n",
       "  <tbody>\n",
       "    <tr>\n",
       "      <th>0</th>\n",
       "      <td>Alberni-Clayoquot</td>\n",
       "      <td>2007</td>\n",
       "      <td>31008</td>\n",
       "      <td>9138000.0</td>\n",
       "      <td>607.4</td>\n",
       "    </tr>\n",
       "    <tr>\n",
       "      <th>1</th>\n",
       "      <td>Alberni-Clayoquot</td>\n",
       "      <td>2008</td>\n",
       "      <td>31225</td>\n",
       "      <td>9921000.0</td>\n",
       "      <td>695.0</td>\n",
       "    </tr>\n",
       "    <tr>\n",
       "      <th>2</th>\n",
       "      <td>Alberni-Clayoquot</td>\n",
       "      <td>2009</td>\n",
       "      <td>31313</td>\n",
       "      <td>10037000.0</td>\n",
       "      <td>787.6</td>\n",
       "    </tr>\n",
       "    <tr>\n",
       "      <th>3</th>\n",
       "      <td>Alberni-Clayoquot</td>\n",
       "      <td>2010</td>\n",
       "      <td>31303</td>\n",
       "      <td>9682000.0</td>\n",
       "      <td>787.8</td>\n",
       "    </tr>\n",
       "    <tr>\n",
       "      <th>4</th>\n",
       "      <td>Alberni-Clayoquot</td>\n",
       "      <td>2011</td>\n",
       "      <td>31602</td>\n",
       "      <td>9185000.0</td>\n",
       "      <td>712.5</td>\n",
       "    </tr>\n",
       "  </tbody>\n",
       "</table>\n",
       "</div>"
      ],
      "text/plain": [
       "   regional_district  year  population  Units Collected  \\\n",
       "0  Alberni-Clayoquot  2007       31008        9138000.0   \n",
       "1  Alberni-Clayoquot  2008       31225        9921000.0   \n",
       "2  Alberni-Clayoquot  2009       31313       10037000.0   \n",
       "3  Alberni-Clayoquot  2010       31303        9682000.0   \n",
       "4  Alberni-Clayoquot  2011       31602        9185000.0   \n",
       "\n",
       "   Weight Collected (Tonnes)  \n",
       "0                      607.4  \n",
       "1                      695.0  \n",
       "2                      787.6  \n",
       "3                      787.8  \n",
       "4                      712.5  "
      ]
     },
     "execution_count": 53,
     "metadata": {},
     "output_type": "execute_result"
    }
   ],
   "source": [
    "# df1 = pd.pivot_table(data = pd.read_csv(os.path.join(d0,list_region_csv[0])),index='year',columns='measure',values='value',aggfunc='sum')\n",
    "pop_sample = pop1[pop1['regional_district']==list_region_name[0]]\n",
    "final = pd.merge(pop_sample,df1,on='year' , how='inner')\n",
    "final.head(5)"
   ]
  },
  {
   "cell_type": "code",
   "execution_count": 78,
   "id": "8d4c5d48",
   "metadata": {},
   "outputs": [],
   "source": [
    "for i in list_region_name[1:]:\n",
    "    \n",
    "    df_pivot = pd.read_csv(d0+i+'.csv')\n",
    "    if sum([1 for i in pd.read_csv(d0+i+'.csv').columns if i=='measure'])>0:\n",
    "        df_pivot = pd.pivot_table(data=pd.read_csv(d0+i+'.csv'),index='year',columns='measure',values='value',aggfunc='sum')\n",
    "    \n",
    "    pop_sample = pop1[pop1['regional_district']==i]\n",
    "    \n",
    "    final = pd.concat([final , pd.merge(pop_sample,df_pivot,how='inner',on='year')] , axis=0)"
   ]
  },
  {
   "cell_type": "code",
   "execution_count": 80,
   "id": "8c04bd9e",
   "metadata": {},
   "outputs": [
    {
     "data": {
      "text/plain": [
       "(282, 5)"
      ]
     },
     "execution_count": 80,
     "metadata": {},
     "output_type": "execute_result"
    }
   ],
   "source": [
    "final.shape"
   ]
  },
  {
   "cell_type": "code",
   "execution_count": 81,
   "id": "2e53634f",
   "metadata": {},
   "outputs": [],
   "source": [
    "final2 = final.reset_index().iloc[:,1:]"
   ]
  },
  {
   "cell_type": "code",
   "execution_count": 82,
   "id": "eb57e30a",
   "metadata": {},
   "outputs": [
    {
     "data": {
      "text/html": [
       "<div>\n",
       "<style scoped>\n",
       "    .dataframe tbody tr th:only-of-type {\n",
       "        vertical-align: middle;\n",
       "    }\n",
       "\n",
       "    .dataframe tbody tr th {\n",
       "        vertical-align: top;\n",
       "    }\n",
       "\n",
       "    .dataframe thead th {\n",
       "        text-align: right;\n",
       "    }\n",
       "</style>\n",
       "<table border=\"1\" class=\"dataframe\">\n",
       "  <thead>\n",
       "    <tr style=\"text-align: right;\">\n",
       "      <th></th>\n",
       "      <th>regional_district</th>\n",
       "      <th>year</th>\n",
       "      <th>population</th>\n",
       "      <th>Units Collected</th>\n",
       "      <th>Weight Collected (Tonnes)</th>\n",
       "    </tr>\n",
       "  </thead>\n",
       "  <tbody>\n",
       "    <tr>\n",
       "      <th>0</th>\n",
       "      <td>Alberni-Clayoquot</td>\n",
       "      <td>2007</td>\n",
       "      <td>31008</td>\n",
       "      <td>9138000.0</td>\n",
       "      <td>607.4</td>\n",
       "    </tr>\n",
       "    <tr>\n",
       "      <th>1</th>\n",
       "      <td>Alberni-Clayoquot</td>\n",
       "      <td>2008</td>\n",
       "      <td>31225</td>\n",
       "      <td>9921000.0</td>\n",
       "      <td>695.0</td>\n",
       "    </tr>\n",
       "    <tr>\n",
       "      <th>2</th>\n",
       "      <td>Alberni-Clayoquot</td>\n",
       "      <td>2009</td>\n",
       "      <td>31313</td>\n",
       "      <td>10037000.0</td>\n",
       "      <td>787.6</td>\n",
       "    </tr>\n",
       "    <tr>\n",
       "      <th>3</th>\n",
       "      <td>Alberni-Clayoquot</td>\n",
       "      <td>2010</td>\n",
       "      <td>31303</td>\n",
       "      <td>9682000.0</td>\n",
       "      <td>787.8</td>\n",
       "    </tr>\n",
       "    <tr>\n",
       "      <th>4</th>\n",
       "      <td>Alberni-Clayoquot</td>\n",
       "      <td>2011</td>\n",
       "      <td>31602</td>\n",
       "      <td>9185000.0</td>\n",
       "      <td>712.5</td>\n",
       "    </tr>\n",
       "    <tr>\n",
       "      <th>...</th>\n",
       "      <td>...</td>\n",
       "      <td>...</td>\n",
       "      <td>...</td>\n",
       "      <td>...</td>\n",
       "      <td>...</td>\n",
       "    </tr>\n",
       "    <tr>\n",
       "      <th>277</th>\n",
       "      <td>Thompson-Nicola</td>\n",
       "      <td>2013</td>\n",
       "      <td>132477</td>\n",
       "      <td>36689000.0</td>\n",
       "      <td>2880.9</td>\n",
       "    </tr>\n",
       "    <tr>\n",
       "      <th>278</th>\n",
       "      <td>Thompson-Nicola</td>\n",
       "      <td>2014</td>\n",
       "      <td>134628</td>\n",
       "      <td>35667000.0</td>\n",
       "      <td>2839.2</td>\n",
       "    </tr>\n",
       "    <tr>\n",
       "      <th>279</th>\n",
       "      <td>Thompson-Nicola</td>\n",
       "      <td>2015</td>\n",
       "      <td>136470</td>\n",
       "      <td>36607000.0</td>\n",
       "      <td>2858.2</td>\n",
       "    </tr>\n",
       "    <tr>\n",
       "      <th>280</th>\n",
       "      <td>Thompson-Nicola</td>\n",
       "      <td>2016</td>\n",
       "      <td>138535</td>\n",
       "      <td>37289000.0</td>\n",
       "      <td>2906.8</td>\n",
       "    </tr>\n",
       "    <tr>\n",
       "      <th>281</th>\n",
       "      <td>Thompson-Nicola</td>\n",
       "      <td>2017</td>\n",
       "      <td>140121</td>\n",
       "      <td>39287000.0</td>\n",
       "      <td>3021.7</td>\n",
       "    </tr>\n",
       "  </tbody>\n",
       "</table>\n",
       "<p>282 rows × 5 columns</p>\n",
       "</div>"
      ],
      "text/plain": [
       "     regional_district  year  population  Units Collected  \\\n",
       "0    Alberni-Clayoquot  2007       31008        9138000.0   \n",
       "1    Alberni-Clayoquot  2008       31225        9921000.0   \n",
       "2    Alberni-Clayoquot  2009       31313       10037000.0   \n",
       "3    Alberni-Clayoquot  2010       31303        9682000.0   \n",
       "4    Alberni-Clayoquot  2011       31602        9185000.0   \n",
       "..                 ...   ...         ...              ...   \n",
       "277    Thompson-Nicola  2013      132477       36689000.0   \n",
       "278    Thompson-Nicola  2014      134628       35667000.0   \n",
       "279    Thompson-Nicola  2015      136470       36607000.0   \n",
       "280    Thompson-Nicola  2016      138535       37289000.0   \n",
       "281    Thompson-Nicola  2017      140121       39287000.0   \n",
       "\n",
       "     Weight Collected (Tonnes)  \n",
       "0                        607.4  \n",
       "1                        695.0  \n",
       "2                        787.6  \n",
       "3                        787.8  \n",
       "4                        712.5  \n",
       "..                         ...  \n",
       "277                     2880.9  \n",
       "278                     2839.2  \n",
       "279                     2858.2  \n",
       "280                     2906.8  \n",
       "281                     3021.7  \n",
       "\n",
       "[282 rows x 5 columns]"
      ]
     },
     "execution_count": 82,
     "metadata": {},
     "output_type": "execute_result"
    }
   ],
   "source": [
    "final2"
   ]
  },
  {
   "cell_type": "code",
   "execution_count": 83,
   "id": "940e72d0",
   "metadata": {},
   "outputs": [],
   "source": [
    "import matplotlib.pyplot as plt"
   ]
  },
  {
   "cell_type": "code",
   "execution_count": 84,
   "id": "331c6068",
   "metadata": {},
   "outputs": [
    {
     "data": {
      "image/png": "[encoded data removed]",
      "text/plain": [
       "<Figure size 432x288 with 1 Axes>"
      ]
     },
     "metadata": {
      "needs_background": "light"
     },
     "output_type": "display_data"
    }
   ],
   "source": [
    "final2['Units Collected'].plot(kind = 'box')\n",
    "plt.show()"
   ]
  },
  {
   "cell_type": "code",
   "execution_count": 85,
   "id": "cebac6eb",
   "metadata": {},
   "outputs": [
    {
     "data": {
      "image/png": "[encoded data removed]",
      "text/plain": [
       "<Figure size 432x288 with 1 Axes>"
      ]
     },
     "metadata": {
      "needs_background": "light"
     },
     "output_type": "display_data"
    }
   ],
   "source": [
    "final2['Weight Collected (Tonnes)'].plot(kind = 'box')\n",
    "plt.show()"
   ]
  },
  {
   "cell_type": "code",
   "execution_count": 87,
   "id": "b89d7008",
   "metadata": {},
   "outputs": [
    {
     "data": {
      "image/png": "[encoded data removed]",
      "text/plain": [
       "<Figure size 432x288 with 1 Axes>"
      ]
     },
     "metadata": {
      "needs_background": "light"
     },
     "output_type": "display_data"
    }
   ],
   "source": [
    "final2['Weight Collected (Tonnes)'].plot(kind = 'hist');"
   ]
  },
  {
   "cell_type": "code",
   "execution_count": 90,
   "id": "f6d493f2",
   "metadata": {},
   "outputs": [
    {
     "data": {
      "text/plain": [
       "Int64Index([6, 10, 183, 230, 264, 265, 266, 268], dtype='int64')"
      ]
     },
     "execution_count": 90,
     "metadata": {},
     "output_type": "execute_result"
    }
   ],
   "source": [
    "index_drop = final2[final2['Weight Collected (Tonnes)']<0].index\n",
    "index_drop"
   ]
  },
  {
   "cell_type": "code",
   "execution_count": 91,
   "id": "12dc1b84",
   "metadata": {},
   "outputs": [],
   "source": [
    "final3 = final2.drop(index_drop , axis=0)"
   ]
  },
  {
   "cell_type": "code",
   "execution_count": 93,
   "id": "28dc584b",
   "metadata": {
    "scrolled": true
   },
   "outputs": [
    {
     "data": {
      "text/html": [
       "<div>\n",
       "<style scoped>\n",
       "    .dataframe tbody tr th:only-of-type {\n",
       "        vertical-align: middle;\n",
       "    }\n",
       "\n",
       "    .dataframe tbody tr th {\n",
       "        vertical-align: top;\n",
       "    }\n",
       "\n",
       "    .dataframe thead th {\n",
       "        text-align: right;\n",
       "    }\n",
       "</style>\n",
       "<table border=\"1\" class=\"dataframe\">\n",
       "  <thead>\n",
       "    <tr style=\"text-align: right;\">\n",
       "      <th></th>\n",
       "      <th>regional_district</th>\n",
       "      <th>year</th>\n",
       "      <th>population</th>\n",
       "      <th>Units Collected</th>\n",
       "      <th>Weight Collected (Tonnes)</th>\n",
       "    </tr>\n",
       "  </thead>\n",
       "  <tbody>\n",
       "  </tbody>\n",
       "</table>\n",
       "</div>"
      ],
      "text/plain": [
       "Empty DataFrame\n",
       "Columns: [regional_district, year, population, Units Collected, Weight Collected (Tonnes)]\n",
       "Index: []"
      ]
     },
     "execution_count": 93,
     "metadata": {},
     "output_type": "execute_result"
    }
   ],
   "source": [
    "final3[final3['Weight Collected (Tonnes)']<0]"
   ]
  },
  {
   "cell_type": "markdown",
   "id": "147f810c",
   "metadata": {},
   "source": [
    "### Report:"
   ]
  },
  {
   "cell_type": "code",
   "execution_count": 94,
   "id": "c7be6df8",
   "metadata": {},
   "outputs": [
    {
     "data": {
      "text/html": [
       "<div>\n",
       "<style scoped>\n",
       "    .dataframe tbody tr th:only-of-type {\n",
       "        vertical-align: middle;\n",
       "    }\n",
       "\n",
       "    .dataframe tbody tr th {\n",
       "        vertical-align: top;\n",
       "    }\n",
       "\n",
       "    .dataframe thead th {\n",
       "        text-align: right;\n",
       "    }\n",
       "</style>\n",
       "<table border=\"1\" class=\"dataframe\">\n",
       "  <thead>\n",
       "    <tr style=\"text-align: right;\">\n",
       "      <th></th>\n",
       "      <th>regional_district</th>\n",
       "      <th>year</th>\n",
       "      <th>population</th>\n",
       "      <th>Units Collected</th>\n",
       "      <th>Weight Collected (Tonnes)</th>\n",
       "    </tr>\n",
       "  </thead>\n",
       "  <tbody>\n",
       "    <tr>\n",
       "      <th>0</th>\n",
       "      <td>Alberni-Clayoquot</td>\n",
       "      <td>2007</td>\n",
       "      <td>31008</td>\n",
       "      <td>9138000.0</td>\n",
       "      <td>607.4</td>\n",
       "    </tr>\n",
       "    <tr>\n",
       "      <th>1</th>\n",
       "      <td>Alberni-Clayoquot</td>\n",
       "      <td>2008</td>\n",
       "      <td>31225</td>\n",
       "      <td>9921000.0</td>\n",
       "      <td>695.0</td>\n",
       "    </tr>\n",
       "    <tr>\n",
       "      <th>2</th>\n",
       "      <td>Alberni-Clayoquot</td>\n",
       "      <td>2009</td>\n",
       "      <td>31313</td>\n",
       "      <td>10037000.0</td>\n",
       "      <td>787.6</td>\n",
       "    </tr>\n",
       "    <tr>\n",
       "      <th>3</th>\n",
       "      <td>Alberni-Clayoquot</td>\n",
       "      <td>2010</td>\n",
       "      <td>31303</td>\n",
       "      <td>9682000.0</td>\n",
       "      <td>787.8</td>\n",
       "    </tr>\n",
       "    <tr>\n",
       "      <th>4</th>\n",
       "      <td>Alberni-Clayoquot</td>\n",
       "      <td>2011</td>\n",
       "      <td>31602</td>\n",
       "      <td>9185000.0</td>\n",
       "      <td>712.5</td>\n",
       "    </tr>\n",
       "  </tbody>\n",
       "</table>\n",
       "</div>"
      ],
      "text/plain": [
       "   regional_district  year  population  Units Collected  \\\n",
       "0  Alberni-Clayoquot  2007       31008        9138000.0   \n",
       "1  Alberni-Clayoquot  2008       31225        9921000.0   \n",
       "2  Alberni-Clayoquot  2009       31313       10037000.0   \n",
       "3  Alberni-Clayoquot  2010       31303        9682000.0   \n",
       "4  Alberni-Clayoquot  2011       31602        9185000.0   \n",
       "\n",
       "   Weight Collected (Tonnes)  \n",
       "0                      607.4  \n",
       "1                      695.0  \n",
       "2                      787.6  \n",
       "3                      787.8  \n",
       "4                      712.5  "
      ]
     },
     "execution_count": 94,
     "metadata": {},
     "output_type": "execute_result"
    }
   ],
   "source": [
    "final3.head()"
   ]
  },
  {
   "cell_type": "code",
   "execution_count": 96,
   "id": "454d503a",
   "metadata": {},
   "outputs": [
    {
     "data": {
      "text/html": [
       "<div>\n",
       "<style scoped>\n",
       "    .dataframe tbody tr th:only-of-type {\n",
       "        vertical-align: middle;\n",
       "    }\n",
       "\n",
       "    .dataframe tbody tr th {\n",
       "        vertical-align: top;\n",
       "    }\n",
       "\n",
       "    .dataframe thead th {\n",
       "        text-align: right;\n",
       "    }\n",
       "</style>\n",
       "<table border=\"1\" class=\"dataframe\">\n",
       "  <thead>\n",
       "    <tr style=\"text-align: right;\">\n",
       "      <th></th>\n",
       "      <th>regional_district</th>\n",
       "      <th>year</th>\n",
       "      <th>population</th>\n",
       "      <th>Units Collected</th>\n",
       "      <th>Weight Collected (Tonnes)</th>\n",
       "      <th>can_rate</th>\n",
       "    </tr>\n",
       "  </thead>\n",
       "  <tbody>\n",
       "    <tr>\n",
       "      <th>0</th>\n",
       "      <td>Alberni-Clayoquot</td>\n",
       "      <td>2007</td>\n",
       "      <td>31008</td>\n",
       "      <td>9138000.0</td>\n",
       "      <td>607.4</td>\n",
       "      <td>294.70</td>\n",
       "    </tr>\n",
       "    <tr>\n",
       "      <th>1</th>\n",
       "      <td>Alberni-Clayoquot</td>\n",
       "      <td>2008</td>\n",
       "      <td>31225</td>\n",
       "      <td>9921000.0</td>\n",
       "      <td>695.0</td>\n",
       "      <td>317.73</td>\n",
       "    </tr>\n",
       "    <tr>\n",
       "      <th>2</th>\n",
       "      <td>Alberni-Clayoquot</td>\n",
       "      <td>2009</td>\n",
       "      <td>31313</td>\n",
       "      <td>10037000.0</td>\n",
       "      <td>787.6</td>\n",
       "      <td>320.54</td>\n",
       "    </tr>\n",
       "    <tr>\n",
       "      <th>3</th>\n",
       "      <td>Alberni-Clayoquot</td>\n",
       "      <td>2010</td>\n",
       "      <td>31303</td>\n",
       "      <td>9682000.0</td>\n",
       "      <td>787.8</td>\n",
       "      <td>309.30</td>\n",
       "    </tr>\n",
       "    <tr>\n",
       "      <th>4</th>\n",
       "      <td>Alberni-Clayoquot</td>\n",
       "      <td>2011</td>\n",
       "      <td>31602</td>\n",
       "      <td>9185000.0</td>\n",
       "      <td>712.5</td>\n",
       "      <td>290.65</td>\n",
       "    </tr>\n",
       "  </tbody>\n",
       "</table>\n",
       "</div>"
      ],
      "text/plain": [
       "   regional_district  year  population  Units Collected  \\\n",
       "0  Alberni-Clayoquot  2007       31008        9138000.0   \n",
       "1  Alberni-Clayoquot  2008       31225        9921000.0   \n",
       "2  Alberni-Clayoquot  2009       31313       10037000.0   \n",
       "3  Alberni-Clayoquot  2010       31303        9682000.0   \n",
       "4  Alberni-Clayoquot  2011       31602        9185000.0   \n",
       "\n",
       "   Weight Collected (Tonnes)  can_rate  \n",
       "0                      607.4    294.70  \n",
       "1                      695.0    317.73  \n",
       "2                      787.6    320.54  \n",
       "3                      787.8    309.30  \n",
       "4                      712.5    290.65  "
      ]
     },
     "execution_count": 96,
     "metadata": {},
     "output_type": "execute_result"
    }
   ],
   "source": [
    "final3['can_rate'] = (final3['Units Collected'] / final3['population']).round(2)\n",
    "final3.head()"
   ]
  },
  {
   "cell_type": "code",
   "execution_count": 117,
   "id": "06dbd83b",
   "metadata": {},
   "outputs": [
    {
     "data": {
      "image/png": "[encoded data removed]",
      "text/plain": [
       "<Figure size 432x288 with 1 Axes>"
      ]
     },
     "metadata": {
      "needs_background": "light"
     },
     "output_type": "display_data"
    }
   ],
   "source": [
    "plt.scatter(final3['population'] , final3['Units Collected'])\n",
    "plt.show()"
   ]
  },
  {
   "cell_type": "code",
   "execution_count": 105,
   "id": "12bd3bdf",
   "metadata": {},
   "outputs": [
    {
     "data": {
      "image/png": "[encoded data removed]",
      "text/plain": [
       "<Figure size 432x288 with 1 Axes>"
      ]
     },
     "metadata": {
      "needs_background": "light"
     },
     "output_type": "display_data"
    }
   ],
   "source": [
    "final3[final3['regional_district'] == list_region_name[16]].plot(x = 'year' , y='can_rate');\n",
    "plt.title('trend of can rate for {}'.format(list_region_name[16]))\n",
    "plt.xlabel('year')\n",
    "plt.ylabel('rate of can')\n",
    "plt.show()"
   ]
  },
  {
   "cell_type": "code",
   "execution_count": 114,
   "id": "cc3db8d3",
   "metadata": {
    "scrolled": false
   },
   "outputs": [
    {
     "data": {
      "image/png": "[encoded data removed]",
      "text/plain": [
       "<Figure size 1152x288 with 1 Axes>"
      ]
     },
     "metadata": {
      "needs_background": "light"
     },
     "output_type": "display_data"
    }
   ],
   "source": [
    "final3.groupby('regional_district').mean()['can_rate'].round(2).sort_values(ascending = False).plot(kind = 'bar', figsize=(16,4));"
   ]
  },
  {
   "cell_type": "code",
   "execution_count": 116,
   "id": "821e435a",
   "metadata": {},
   "outputs": [
    {
     "data": {
      "text/plain": [
       "245.82"
      ]
     },
     "execution_count": 116,
     "metadata": {},
     "output_type": "execute_result"
    }
   ],
   "source": [
    "round(final3['can_rate'].mean() , 2)"
   ]
  }
 ],
 "metadata": {
  "hide_input": false,
  "kernelspec": {
   "display_name": "Python 3",
   "language": "python",
   "name": "python3"
  },
  "language_info": {
   "codemirror_mode": {
    "name": "ipython",
    "version": 3
   },
   "file_extension": ".py",
   "mimetype": "text/x-python",
   "name": "python",
   "nbconvert_exporter": "python",
   "pygments_lexer": "ipython3",
   "version": "3.8.3"
  },
  "varInspector": {
   "cols": {
    "lenName": 16,
    "lenType": 16,
    "lenVar": 40
   },
   "kernels_config": {
    "python": {
     "delete_cmd_postfix": "",
     "delete_cmd_prefix": "del ",
     "library": "var_list.py",
     "varRefreshCmd": "print(var_dic_list())"
    },
    "r": {
     "delete_cmd_postfix": ") ",
     "delete_cmd_prefix": "rm(",
     "library": "var_list.r",
     "varRefreshCmd": "cat(var_dic_list()) "
    }
   },
   "types_to_exclude": [
    "module",
    "function",
    "builtin_function_or_method",
    "instance",
    "_Feature"
   ],
   "window_display": false
  }
 },
 "nbformat": 4,
 "nbformat_minor": 5
}
